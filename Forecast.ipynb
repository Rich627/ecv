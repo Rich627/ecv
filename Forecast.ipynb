{
 "cells": [
  {
   "cell_type": "markdown",
   "metadata": {},
   "source": [
    "參考:https://github.com/aws-samples/amazon-forecast-samples/blob/master/notebooks/basic/Tutorial/1.Importing_Your_Data.ipynb"
   ]
  },
  {
   "cell_type": "code",
   "execution_count": 55,
   "metadata": {},
   "outputs": [],
   "source": [
    "import sys\n",
    "import os\n",
    "import json\n",
    "import pandas as pd\n",
    "%reload_ext autoreload\n",
    "import boto3\n",
    "import s3fs\n",
    "import time"
   ]
  },
  {
   "cell_type": "code",
   "execution_count": 56,
   "metadata": {},
   "outputs": [],
   "source": [
    "region = 'ap-northeast-1'\n",
    "# BUCKET_NAME = ''"
   ]
  },
  {
   "cell_type": "code",
   "execution_count": 57,
   "metadata": {},
   "outputs": [],
   "source": [
    "# Create API Session\n",
    "session = boto3.Session(region_name=region)\n",
    "forecast = session.client(service_name='forecast')\n",
    "forecastquery = session.client(service_name='forecastquery')"
   ]
  },
  {
   "cell_type": "code",
   "execution_count": 58,
   "metadata": {},
   "outputs": [],
   "source": [
    "# 建議一個funciton創IAM role\n",
    "def get_or_create_iam_role( role_name ):\n",
    "\n",
    "    iam = boto3.client(\"iam\")\n",
    "\n",
    "    assume_role_policy_document = {\n",
    "        \"Version\": \"2012-10-17\",\n",
    "        \"Statement\": [\n",
    "            {\n",
    "              \"Effect\": \"Allow\",\n",
    "              \"Principal\": {\n",
    "                \"Service\": \"forecast.amazonaws.com\"\n",
    "              },\n",
    "              \"Action\": \"sts:AssumeRole\"\n",
    "            }\n",
    "        ]\n",
    "    }\n",
    "\n",
    "    try:\n",
    "        create_role_response = iam.create_role(\n",
    "            RoleName = role_name,\n",
    "            AssumeRolePolicyDocument = json.dumps(assume_role_policy_document)\n",
    "        )\n",
    "        role_arn = create_role_response[\"Role\"][\"Arn\"]\n",
    "        print(\"Created\", role_arn)\n",
    "        \n",
    "        print(\"Attaching policies...\")\n",
    "        iam.attach_role_policy(\n",
    "            RoleName = role_name,\n",
    "            PolicyArn = \"arn:aws:iam::aws:policy/AmazonForecastFullAccess\"\n",
    "        )\n",
    "\n",
    "        iam.attach_role_policy(\n",
    "            RoleName=role_name,\n",
    "            PolicyArn='arn:aws:iam::aws:policy/AmazonS3FullAccess',\n",
    "        )\n",
    "\n",
    "        print(\"Waiting for a minute to allow IAM role policy attachment to propagate\")\n",
    "        time.sleep(60)\n",
    "    except iam.exceptions.EntityAlreadyExistsException:\n",
    "        print(\"The role \" + role_name + \" exists, ignore to create it\")\n",
    "        role_arn = boto3.resource('iam').Role(role_name).arn\n",
    "\n",
    "    print(\"Done.\")\n",
    "    return role_arn"
   ]
  },
  {
   "cell_type": "code",
   "execution_count": 65,
   "metadata": {},
   "outputs": [
    {
     "name": "stdout",
     "output_type": "stream",
     "text": [
      "Creating Role ForecastNotebookRole-Basic ...\n",
      "The role ForecastNotebookRole-Basic exists, ignore to create it\n",
      "Done.\n",
      "arn:aws:iam::070576557102:role/ForecastNotebookRole-Basic\n"
     ]
    }
   ],
   "source": [
    "# Create the role to provide to Amazon Forecast.\n",
    "role_name = \"ForecastNotebookRole-Basic\"\n",
    "print(f\"Creating Role {role_name} ...\")\n",
    "role_arn = get_or_create_iam_role( role_name = role_name )\n",
    "\n",
    "\n",
    "print(role_arn)\n"
   ]
  },
  {
   "cell_type": "code",
   "execution_count": 60,
   "metadata": {},
   "outputs": [
    {
     "data": {
      "text/plain": [
       "{'Predictors': [],\n",
       " 'ResponseMetadata': {'RequestId': '5f17966e-5b40-48f9-b5df-5f98fc1c9194',\n",
       "  'HTTPStatusCode': 200,\n",
       "  'HTTPHeaders': {'date': 'Fri, 15 Mar 2024 03:30:51 GMT',\n",
       "   'content-type': 'application/x-amz-json-1.1',\n",
       "   'content-length': '17',\n",
       "   'connection': 'keep-alive',\n",
       "   'x-amzn-requestid': '5f17966e-5b40-48f9-b5df-5f98fc1c9194'},\n",
       "  'RetryAttempts': 0}}"
      ]
     },
     "execution_count": 60,
     "metadata": {},
     "output_type": "execute_result"
    }
   ],
   "source": [
    "# check you can communicate with Forecast API session\n",
    "forecast.list_predictors()"
   ]
  }
 ],
 "metadata": {
  "kernelspec": {
   "display_name": "ecv",
   "language": "python",
   "name": "python3"
  },
  "language_info": {
   "codemirror_mode": {
    "name": "ipython",
    "version": 3
   },
   "file_extension": ".py",
   "mimetype": "text/x-python",
   "name": "python",
   "nbconvert_exporter": "python",
   "pygments_lexer": "ipython3",
   "version": "3.10.13"
  }
 },
 "nbformat": 4,
 "nbformat_minor": 2
}
