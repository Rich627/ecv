{
 "cells": [
  {
   "cell_type": "code",
   "execution_count": 1,
   "metadata": {},
   "outputs": [],
   "source": [
    "from pyspark import SparkContext, SparkConf\n",
    "from pyspark.sql import SparkSession, functions"
   ]
  },
  {
   "cell_type": "code",
   "execution_count": 2,
   "metadata": {},
   "outputs": [],
   "source": [
    "conf = SparkConf().set(\"spark.jars\", \"/Users/rich/Desktop/project/jars/spark-excel_2.12-3.5.0_0.20.3.jar\")"
   ]
  },
  {
   "cell_type": "code",
   "execution_count": 3,
   "metadata": {},
   "outputs": [
    {
     "name": "stderr",
     "output_type": "stream",
     "text": [
      "24/03/22 14:23:37 WARN NativeCodeLoader: Unable to load native-hadoop library for your platform... using builtin-java classes where applicable\n",
      "Setting default log level to \"WARN\".\n",
      "To adjust logging level use sc.setLogLevel(newLevel). For SparkR, use setLogLevel(newLevel).\n",
      "24/03/22 14:23:37 WARN Utils: Service 'SparkUI' could not bind on port 4040. Attempting port 4041.\n"
     ]
    }
   ],
   "source": [
    "sc = SparkContext.getOrCreate(conf=conf)\n",
    "spark = SparkSession(sc)"
   ]
  },
  {
   "cell_type": "code",
   "execution_count": 4,
   "metadata": {},
   "outputs": [],
   "source": [
    "df = spark.read.format('excel').option(\"maxRowsInMemory\", 20).load(\"/Users/rich/Desktop/project/Data/Raw Data_To interns_Contacts.xlsx\")"
   ]
  },
  {
   "cell_type": "code",
   "execution_count": 8,
   "metadata": {},
   "outputs": [
    {
     "name": "stderr",
     "output_type": "stream",
     "text": [
      "24/03/22 14:23:57 WARN SparkStringUtils: Truncated the string representation of a plan since it was too large. This behavior can be adjusted by setting 'spark.sql.debug.maxToStringFields'.\n",
      "                                                                                \r"
     ]
    },
    {
     "name": "stdout",
     "output_type": "stream",
     "text": [
      "+----+----------+--------------+---------+---------------+----------+-----+-----------+---------------+------------+-----------------+--------------+----------+--------------------+-------------+--------------+----------------------+-----------+------+-------------+------+-----------+--------------------+------------------+----------------+--------------+---------------------+------------+------------+---------------+-------+----------------+-------------+\n",
      "|  Id|externalid|MasterRecordId|AccountId|IsPersonAccount|Salutation| Name|MailingCity|MailingDistrict|MailingState|MailingPostalCode|MailingCountry|    Mobile|               Email|    Birthdate|   CreatedDate|mobile_country_code__c|nickname__c|sex__c|crm_custid__c| no__c| fb_uuid__c|        line_uuid__c|member_level_id__c|register_type__c| login_date__c|last_transfer_date__c|is_epaper__c|is_useful__c|block_status__c|site__c|register_date__c|modify_day__c|\n",
      "+----+----------+--------------+---------+---------------+----------+-----+-----------+---------------+------------+-----------------+--------------+----------+--------------------+-------------+--------------+----------------------+-----------+------+-------------+------+-----------+--------------------+------------------+----------------+--------------+---------------------+------------+------------+---------------+-------+----------------+-------------+\n",
      "|NULL|    183768|          NULL|     NULL|              1|      NULL|威O煌|     屏東縣|         佳冬鄉|        NULL|              931|          本島|0960*****7|  aaa*****@gmail.com| 10/6/98 0:00| 3/28/22 19:00|                   886|       NULL|     1|        40972| 40972|3.49625E+14|                NULL|              DR01|        facebook| 3/13/18 21:10|         2/4/20 11:36|           1|           1|              0|     TW|     3/9/18 0:00|  3/9/18 0:00|\n",
      "|NULL|    183765|          NULL|     NULL|              1|      NULL|黃O蓉|     台南市|         南區新|        NULL|              702|          本島|0935*****7|jes*****@livemail.tw|  1/1/86 0:00| 3/22/22 19:01|                   886|       NULL|     0|        96425| 64707|       NULL|                NULL|              DR01|        手機註冊| 11/12/18 0:54|         2/4/20 11:36|           0|           1|              0|     TW|    11/6/18 0:00| 11/7/18 0:00|\n",
      "|NULL|    183719|          NULL|     NULL|              1|      NULL|林O心|     台北市|         信義區|        NULL|              110|          本島|0983*****2| rer*****@epr.com.tw|  8/1/97 0:00| 1/24/22 19:01|                   886|       NULL|     0|       164874|131510|       NULL|                NULL|              DR01|        首購註冊| 9/11/20 16:15|         9/12/20 1:30|           1|           1|              0|     TW|    9/11/20 0:00| 9/11/20 0:00|\n",
      "|NULL|    183718|          NULL|     NULL|              1|      NULL|黃O文|     新北市|         中和區|        NULL|              235|          本島|0976*****1|  una*****@gmail.com| 10/1/83 0:00| 1/24/22 19:01|                   886|      U***a|     0|       197026|163748|       NULL|Ue9cb7ae5d1edd7c5...|              DR01|        line登入| 5/24/21 19:17|         5/25/21 1:30|           1|           1|              0|     TW|    5/24/21 0:00| 5/24/21 0:00|\n",
      "|NULL|    183711|          NULL|     NULL|              1|      NULL|林O瑜|     台北市|         中山區|        NULL|              104|          本島|0975*****2|  win*****@gmail.com|  2/1/94 0:00| 1/11/22 19:01|                   886|       NULL|     0|       197060|163800|       NULL|                NULL|              DR01|        首購註冊|  5/25/21 0:00|         5/26/21 1:30|           1|           1|              0|     TW|    5/25/21 0:00| 5/25/21 0:00|\n",
      "|NULL|    183710|          NULL|     NULL|              1|      NULL|陳O亘|     新北市|         板橋區|        NULL|              220|          本島|0920*****3|  nte*****@gmail.com|  4/1/01 0:00| 1/10/22 19:01|                   886|    陳***亘|     0|         NULL|135056|1.02113E+15|                NULL|              DR01|        facebook|10/12/20 20:42|        10/13/20 1:30|           1|           1|              0|     TW|   10/12/20 0:00|10/12/20 0:00|\n",
      "|NULL|    183709|          NULL|     NULL|              1|      NULL|黃O瑩|     台北市|         大安區|        NULL|              106|          本島|0988*****1|  cry*****@gmail.com|  9/1/60 0:00|  1/7/22 19:00|                   886|       NULL|     0|        95786| 64052|1.84955E+15|                NULL|              DR01|        facebook| 9/13/20 20:16|         9/14/20 1:30|           0|           1|              0|     TW|   10/30/18 0:00| 9/13/20 0:00|\n",
      "|NULL|    183704|          NULL|     NULL|              1|      NULL|郭O蓮|     新北市|         中和區|        NULL|              235|          本島|0953*****8|tzu*****@yahoo.co...|  9/1/75 0:00|12/22/21 19:01|                   886|    慈***蓮|     0|       208919|175496|       NULL|Ube23b6e54dfd4b76...|              DR01|        會員中心|  8/25/21 9:40|         9/1/21 17:15|           1|           1|              0|     TW|    7/21/21 0:00| 8/25/21 0:00|\n",
      "|NULL|    183702|          NULL|     NULL|              1|      NULL|葉O嫣|     苗栗縣|         後龍鎮|        NULL|              356|          本島|0955*****3|  yan*****@gmail.com| 10/1/97 0:00|12/22/21 19:01|                   886|       NULL|     0|       187429|154258|       NULL|                NULL|              DR01|        會員中心| 5/14/21 16:42|         5/15/21 1:30|           1|           1|              0|     TW|     3/3/21 0:00| 5/14/21 0:00|\n",
      "|NULL|    183703|          NULL|     NULL|              1|      NULL|沈O瑜|     屏東縣|         屏東市|        NULL|              900|          本島|0908*****7|              *****@|  1/1/04 0:00|12/22/21 19:01|                   886|       NULL|     0|       187644|154393|       NULL|Uc1737524b5d882e9...|              DR01|        line登入|  3/4/21 18:06|          3/5/21 1:30|           1|           1|              0|     TW|     3/4/21 0:00|  3/4/21 0:00|\n",
      "|NULL|    183701|          NULL|     NULL|              1|      NULL|周O瑩|     新竹縣|         湖口鄉|        NULL|              303|          本島|0920*****3|az4*****@yahoo.co...| 11/1/90 0:00|12/22/21 19:01|                   886|    周***瑩|     0|       120019| 89258|3.14488E+15|U2a9c9ff1e55834f9...|              DR01|        facebook| 7/19/21 12:46|         7/20/21 1:30|           1|           1|              0|     TW|    9/10/19 0:00| 7/19/21 0:00|\n",
      "|NULL|    183700|          NULL|     NULL|              1|      NULL|傅O瑮|     嘉義縣|         太保市|        NULL|              612|          本島|0905*****3|  hty*****@gmail.com| 10/1/98 0:00|12/22/21 19:01|                   886|    傅***瑮|     0|       157857|124290|1.86109E+15|                NULL|              DR01|        facebook| 7/31/20 13:58|          8/1/20 1:30|           1|           1|              0|     TW|    7/30/20 0:00| 7/31/20 0:00|\n",
      "|NULL|    183698|          NULL|     NULL|              1|      NULL|姚O靚|     台中市|         北區美|        NULL|              404|          本島|0952*****1|  lei*****@gmail.com|10/10/94 0:00|12/22/21 19:00|                   886|       NULL|     0|        42141| 42141|       NULL|                NULL|              DR01|             sso|  4/9/18 21:25|         2/4/20 11:36|           1|           1|              0|     TW|    3/20/18 0:00| 3/20/18 0:00|\n",
      "|NULL|    183697|          NULL|     NULL|              1|      NULL|蔡O娟|     高雄市|         苓雅區|        NULL|              802|          本島|0932*****9|tsa*****@yahoo.co...|11/27/73 0:00|12/20/21 19:00|                   886|       NULL|     0|        34639| 34639| 1.7097E+15|                NULL|              DR01|        facebook|12/24/19 22:46|         2/4/20 11:36|           1|           1|              0|     TW|   12/21/17 0:00|11/26/18 0:00|\n",
      "|NULL|    183689|          NULL|     NULL|              1|      NULL|張O祖|     台北市|         信義區|        NULL|              110|          本島|0933*****8|  nia*****@gmail.com|  4/1/64 0:00| 12/1/21 19:00|                   886|       NULL|     0|       106880| 75283|       NULL|                NULL|              DR01|        會員中心|   6/6/19 9:55|         2/4/20 11:36|           1|           1|              0|     TW|    3/24/19 0:00| 3/24/19 0:00|\n",
      "|NULL|    183688|          NULL|     NULL|              1|      NULL|徐O傑|     新北市|         永和區|        NULL|              234|          本島|0975*****9|  nic*****@gmail.com|  2/1/88 0:00|11/30/21 19:00|                   886|✨徐尼克Nick|     1|       175278|142211|1.02247E+16|U2f382be8033cbac7...|              DR01|        line登入|  6/6/21 13:42|          6/7/21 1:30|           1|           1|              0|     TW|   11/23/20 0:00|  6/6/21 0:00|\n",
      "|NULL|    183683|          NULL|     NULL|              1|      NULL|葉O彣|     台南市|         善化區|        NULL|              741|          本島|0933*****4|ji6*****@yahoo.co...|  3/1/90 0:00|11/29/21 19:01|                   886|      J***h|     0|       187249|153965|2.32068E+15|                NULL|              DR01|        facebook|  3/1/21 10:03|          3/2/21 1:30|           1|           1|              0|     TW|     3/1/21 0:00|  3/1/21 0:00|\n",
      "|NULL|    183679|          NULL|     NULL|              1|      NULL|鄭O喻|     嘉義縣|         大林鎮|        NULL|              622|          本島|0937*****5|              *****@|  3/1/01 0:00|11/24/21 19:01|                   886|    鄭***喻|     0|       200031|166795|       NULL|Ue33727c05a6f2ceb...|              DR01|        line登入| 8/17/21 16:26|         8/18/21 1:30|           1|           1|              0|     TW|    6/14/21 0:00| 8/17/21 0:00|\n",
      "|NULL|    183680|          NULL|     NULL|              1|      NULL|冀O琪|     台中市|         西屯區|        NULL|              407|          本島|0970*****6|  smi*****@gmail.com|  2/1/90 0:00|11/24/21 19:01|                   886|       NULL|     0|       133480|100184|2.93042E+15|                NULL|              DR01|        facebook|  2/1/20 11:37|         2/4/20 11:36|           0|           1|              0|     TW|   12/12/19 0:00|12/12/19 0:00|\n",
      "|NULL|    183633|          NULL|     NULL|              1|      NULL|林O芬|     台北市|         內湖區|        NULL|              114|          本島|0937*****6|  fen*****@gmail.com|  2/1/50 0:00| 10/1/21 19:01|                   886|    瑞***芬|     0|       193691|160481|       NULL|U4c9932482461a395...|              DR01|        line登入|  7/2/21 15:49|          7/3/21 1:30|           1|           1|              0|     TW|    4/23/21 0:00|  7/2/21 0:00|\n",
      "+----+----------+--------------+---------+---------------+----------+-----+-----------+---------------+------------+-----------------+--------------+----------+--------------------+-------------+--------------+----------------------+-----------+------+-------------+------+-----------+--------------------+------------------+----------------+--------------+---------------------+------------+------------+---------------+-------+----------------+-------------+\n",
      "only showing top 20 rows\n",
      "\n"
     ]
    }
   ],
   "source": [
    "df.show()"
   ]
  },
  {
   "cell_type": "code",
   "execution_count": 5,
   "metadata": {},
   "outputs": [
    {
     "name": "stdout",
     "output_type": "stream",
     "text": [
      "root\n",
      " |-- Id: string (nullable = true)\n",
      " |-- externalid: string (nullable = true)\n",
      " |-- MasterRecordId: string (nullable = true)\n",
      " |-- AccountId: string (nullable = true)\n",
      " |-- IsPersonAccount: string (nullable = true)\n",
      " |-- Salutation: string (nullable = true)\n",
      " |-- Name: string (nullable = true)\n",
      " |-- MailingCity: string (nullable = true)\n",
      " |-- MailingDistrict: string (nullable = true)\n",
      " |-- MailingState: string (nullable = true)\n",
      " |-- MailingPostalCode: string (nullable = true)\n",
      " |-- MailingCountry: string (nullable = true)\n",
      " |-- Mobile: string (nullable = true)\n",
      " |-- Email: string (nullable = true)\n",
      " |-- Birthdate: string (nullable = true)\n",
      " |-- CreatedDate: string (nullable = true)\n",
      " |-- mobile_country_code__c: string (nullable = true)\n",
      " |-- nickname__c: string (nullable = true)\n",
      " |-- sex__c: string (nullable = true)\n",
      " |-- crm_custid__c: string (nullable = true)\n",
      " |-- no__c: string (nullable = true)\n",
      " |-- fb_uuid__c: string (nullable = true)\n",
      " |-- line_uuid__c: string (nullable = true)\n",
      " |-- member_level_id__c: string (nullable = true)\n",
      " |-- register_type__c: string (nullable = true)\n",
      " |-- login_date__c: string (nullable = true)\n",
      " |-- last_transfer_date__c: string (nullable = true)\n",
      " |-- is_epaper__c: string (nullable = true)\n",
      " |-- is_useful__c: string (nullable = true)\n",
      " |-- block_status__c: string (nullable = true)\n",
      " |-- site__c: string (nullable = true)\n",
      " |-- register_date__c: string (nullable = true)\n",
      " |-- modify_day__c: string (nullable = true)\n",
      "\n"
     ]
    }
   ],
   "source": [
    "df.printSchema()"
   ]
  },
  {
   "cell_type": "code",
   "execution_count": 63,
   "metadata": {},
   "outputs": [
    {
     "name": "stderr",
     "output_type": "stream",
     "text": [
      "24/03/15 18:04:09 WARN ExcelHeaderChecker: Number of column in Excel header is not equal to number of fields in the schema:\n",
      " Header length: 33, schema size: 0\n",
      "Excel file: file:///Users/dragonh/Workspace/intern/2024Q2/raw_data/Raw%20Data_To%20interns_Contacts.xlsx\n",
      "                                                                                \r"
     ]
    },
    {
     "data": {
      "text/plain": [
       "67871"
      ]
     },
     "execution_count": 63,
     "metadata": {},
     "output_type": "execute_result"
    }
   ],
   "source": [
    "df.count()"
   ]
  },
  {
   "cell_type": "code",
   "execution_count": 64,
   "metadata": {},
   "outputs": [
    {
     "name": "stderr",
     "output_type": "stream",
     "text": [
      "[Stage 88:>                                                         (0 + 1) / 1]\r"
     ]
    },
    {
     "name": "stdout",
     "output_type": "stream",
     "text": [
      "+----+----------+--------------+---------+---------------+----------+-----+-----------+---------------+------------+-----------------+--------------+----------+--------------------+-------------+--------------+----------------------+-----------+------+-------------+------+-----------+--------------------+------------------+----------------+--------------+---------------------+------------+------------+---------------+-------+----------------+-------------+\n",
      "|  Id|externalid|MasterRecordId|AccountId|IsPersonAccount|Salutation| Name|MailingCity|MailingDistrict|MailingState|MailingPostalCode|MailingCountry|    Mobile|               Email|    Birthdate|   CreatedDate|mobile_country_code__c|nickname__c|sex__c|crm_custid__c| no__c| fb_uuid__c|        line_uuid__c|member_level_id__c|register_type__c| login_date__c|last_transfer_date__c|is_epaper__c|is_useful__c|block_status__c|site__c|register_date__c|modify_day__c|\n",
      "+----+----------+--------------+---------+---------------+----------+-----+-----------+---------------+------------+-----------------+--------------+----------+--------------------+-------------+--------------+----------------------+-----------+------+-------------+------+-----------+--------------------+------------------+----------------+--------------+---------------------+------------+------------+---------------+-------+----------------+-------------+\n",
      "|NULL|    183768|          NULL|     NULL|              1|      NULL|威O煌|     屏東縣|         佳冬鄉|        NULL|              931|          本島|0960*****7|  aaa*****@gmail.com| 10/6/98 0:00| 3/28/22 19:00|                   886|       NULL|     1|        40972| 40972|3.49625E+14|                NULL|              DR01|        facebook| 3/13/18 21:10|         2/4/20 11:36|           1|           1|              0|     TW|     3/9/18 0:00|  3/9/18 0:00|\n",
      "|NULL|    183765|          NULL|     NULL|              1|      NULL|黃O蓉|     台南市|         南區新|        NULL|              702|          本島|0935*****7|jes*****@livemail.tw|  1/1/86 0:00| 3/22/22 19:01|                   886|       NULL|     0|        96425| 64707|       NULL|                NULL|              DR01|        手機註冊| 11/12/18 0:54|         2/4/20 11:36|           0|           1|              0|     TW|    11/6/18 0:00| 11/7/18 0:00|\n",
      "|NULL|    183719|          NULL|     NULL|              1|      NULL|林O心|     台北市|         信義區|        NULL|              110|          本島|0983*****2| rer*****@epr.com.tw|  8/1/97 0:00| 1/24/22 19:01|                   886|       NULL|     0|       164874|131510|       NULL|                NULL|              DR01|        首購註冊| 9/11/20 16:15|         9/12/20 1:30|           1|           1|              0|     TW|    9/11/20 0:00| 9/11/20 0:00|\n",
      "|NULL|    183718|          NULL|     NULL|              1|      NULL|黃O文|     新北市|         中和區|        NULL|              235|          本島|0976*****1|  una*****@gmail.com| 10/1/83 0:00| 1/24/22 19:01|                   886|      U***a|     0|       197026|163748|       NULL|Ue9cb7ae5d1edd7c5...|              DR01|        line登入| 5/24/21 19:17|         5/25/21 1:30|           1|           1|              0|     TW|    5/24/21 0:00| 5/24/21 0:00|\n",
      "|NULL|    183711|          NULL|     NULL|              1|      NULL|林O瑜|     台北市|         中山區|        NULL|              104|          本島|0975*****2|  win*****@gmail.com|  2/1/94 0:00| 1/11/22 19:01|                   886|       NULL|     0|       197060|163800|       NULL|                NULL|              DR01|        首購註冊|  5/25/21 0:00|         5/26/21 1:30|           1|           1|              0|     TW|    5/25/21 0:00| 5/25/21 0:00|\n",
      "|NULL|    183710|          NULL|     NULL|              1|      NULL|陳O亘|     新北市|         板橋區|        NULL|              220|          本島|0920*****3|  nte*****@gmail.com|  4/1/01 0:00| 1/10/22 19:01|                   886|    陳***亘|     0|         NULL|135056|1.02113E+15|                NULL|              DR01|        facebook|10/12/20 20:42|        10/13/20 1:30|           1|           1|              0|     TW|   10/12/20 0:00|10/12/20 0:00|\n",
      "|NULL|    183709|          NULL|     NULL|              1|      NULL|黃O瑩|     台北市|         大安區|        NULL|              106|          本島|0988*****1|  cry*****@gmail.com|  9/1/60 0:00|  1/7/22 19:00|                   886|       NULL|     0|        95786| 64052|1.84955E+15|                NULL|              DR01|        facebook| 9/13/20 20:16|         9/14/20 1:30|           0|           1|              0|     TW|   10/30/18 0:00| 9/13/20 0:00|\n",
      "|NULL|    183704|          NULL|     NULL|              1|      NULL|郭O蓮|     新北市|         中和區|        NULL|              235|          本島|0953*****8|tzu*****@yahoo.co...|  9/1/75 0:00|12/22/21 19:01|                   886|    慈***蓮|     0|       208919|175496|       NULL|Ube23b6e54dfd4b76...|              DR01|        會員中心|  8/25/21 9:40|         9/1/21 17:15|           1|           1|              0|     TW|    7/21/21 0:00| 8/25/21 0:00|\n",
      "|NULL|    183702|          NULL|     NULL|              1|      NULL|葉O嫣|     苗栗縣|         後龍鎮|        NULL|              356|          本島|0955*****3|  yan*****@gmail.com| 10/1/97 0:00|12/22/21 19:01|                   886|       NULL|     0|       187429|154258|       NULL|                NULL|              DR01|        會員中心| 5/14/21 16:42|         5/15/21 1:30|           1|           1|              0|     TW|     3/3/21 0:00| 5/14/21 0:00|\n",
      "|NULL|    183703|          NULL|     NULL|              1|      NULL|沈O瑜|     屏東縣|         屏東市|        NULL|              900|          本島|0908*****7|              *****@|  1/1/04 0:00|12/22/21 19:01|                   886|       NULL|     0|       187644|154393|       NULL|Uc1737524b5d882e9...|              DR01|        line登入|  3/4/21 18:06|          3/5/21 1:30|           1|           1|              0|     TW|     3/4/21 0:00|  3/4/21 0:00|\n",
      "|NULL|    183701|          NULL|     NULL|              1|      NULL|周O瑩|     新竹縣|         湖口鄉|        NULL|              303|          本島|0920*****3|az4*****@yahoo.co...| 11/1/90 0:00|12/22/21 19:01|                   886|    周***瑩|     0|       120019| 89258|3.14488E+15|U2a9c9ff1e55834f9...|              DR01|        facebook| 7/19/21 12:46|         7/20/21 1:30|           1|           1|              0|     TW|    9/10/19 0:00| 7/19/21 0:00|\n",
      "|NULL|    183700|          NULL|     NULL|              1|      NULL|傅O瑮|     嘉義縣|         太保市|        NULL|              612|          本島|0905*****3|  hty*****@gmail.com| 10/1/98 0:00|12/22/21 19:01|                   886|    傅***瑮|     0|       157857|124290|1.86109E+15|                NULL|              DR01|        facebook| 7/31/20 13:58|          8/1/20 1:30|           1|           1|              0|     TW|    7/30/20 0:00| 7/31/20 0:00|\n",
      "|NULL|    183698|          NULL|     NULL|              1|      NULL|姚O靚|     台中市|         北區美|        NULL|              404|          本島|0952*****1|  lei*****@gmail.com|10/10/94 0:00|12/22/21 19:00|                   886|       NULL|     0|        42141| 42141|       NULL|                NULL|              DR01|             sso|  4/9/18 21:25|         2/4/20 11:36|           1|           1|              0|     TW|    3/20/18 0:00| 3/20/18 0:00|\n",
      "|NULL|    183697|          NULL|     NULL|              1|      NULL|蔡O娟|     高雄市|         苓雅區|        NULL|              802|          本島|0932*****9|tsa*****@yahoo.co...|11/27/73 0:00|12/20/21 19:00|                   886|       NULL|     0|        34639| 34639| 1.7097E+15|                NULL|              DR01|        facebook|12/24/19 22:46|         2/4/20 11:36|           1|           1|              0|     TW|   12/21/17 0:00|11/26/18 0:00|\n",
      "|NULL|    183689|          NULL|     NULL|              1|      NULL|張O祖|     台北市|         信義區|        NULL|              110|          本島|0933*****8|  nia*****@gmail.com|  4/1/64 0:00| 12/1/21 19:00|                   886|       NULL|     0|       106880| 75283|       NULL|                NULL|              DR01|        會員中心|   6/6/19 9:55|         2/4/20 11:36|           1|           1|              0|     TW|    3/24/19 0:00| 3/24/19 0:00|\n",
      "|NULL|    183688|          NULL|     NULL|              1|      NULL|徐O傑|     新北市|         永和區|        NULL|              234|          本島|0975*****9|  nic*****@gmail.com|  2/1/88 0:00|11/30/21 19:00|                   886|✨徐尼克Nick|     1|       175278|142211|1.02247E+16|U2f382be8033cbac7...|              DR01|        line登入|  6/6/21 13:42|          6/7/21 1:30|           1|           1|              0|     TW|   11/23/20 0:00|  6/6/21 0:00|\n",
      "|NULL|    183683|          NULL|     NULL|              1|      NULL|葉O彣|     台南市|         善化區|        NULL|              741|          本島|0933*****4|ji6*****@yahoo.co...|  3/1/90 0:00|11/29/21 19:01|                   886|      J***h|     0|       187249|153965|2.32068E+15|                NULL|              DR01|        facebook|  3/1/21 10:03|          3/2/21 1:30|           1|           1|              0|     TW|     3/1/21 0:00|  3/1/21 0:00|\n",
      "|NULL|    183679|          NULL|     NULL|              1|      NULL|鄭O喻|     嘉義縣|         大林鎮|        NULL|              622|          本島|0937*****5|              *****@|  3/1/01 0:00|11/24/21 19:01|                   886|    鄭***喻|     0|       200031|166795|       NULL|Ue33727c05a6f2ceb...|              DR01|        line登入| 8/17/21 16:26|         8/18/21 1:30|           1|           1|              0|     TW|    6/14/21 0:00| 8/17/21 0:00|\n",
      "|NULL|    183680|          NULL|     NULL|              1|      NULL|冀O琪|     台中市|         西屯區|        NULL|              407|          本島|0970*****6|  smi*****@gmail.com|  2/1/90 0:00|11/24/21 19:01|                   886|       NULL|     0|       133480|100184|2.93042E+15|                NULL|              DR01|        facebook|  2/1/20 11:37|         2/4/20 11:36|           0|           1|              0|     TW|   12/12/19 0:00|12/12/19 0:00|\n",
      "|NULL|    183633|          NULL|     NULL|              1|      NULL|林O芬|     台北市|         內湖區|        NULL|              114|          本島|0937*****6|  fen*****@gmail.com|  2/1/50 0:00| 10/1/21 19:01|                   886|    瑞***芬|     0|       193691|160481|       NULL|U4c9932482461a395...|              DR01|        line登入|  7/2/21 15:49|          7/3/21 1:30|           1|           1|              0|     TW|    4/23/21 0:00|  7/2/21 0:00|\n",
      "+----+----------+--------------+---------+---------------+----------+-----+-----------+---------------+------------+-----------------+--------------+----------+--------------------+-------------+--------------+----------------------+-----------+------+-------------+------+-----------+--------------------+------------------+----------------+--------------+---------------------+------------+------------+---------------+-------+----------------+-------------+\n",
      "only showing top 20 rows\n",
      "\n"
     ]
    },
    {
     "name": "stderr",
     "output_type": "stream",
     "text": [
      "                                                                                \r"
     ]
    }
   ],
   "source": [
    "df.show()"
   ]
  },
  {
   "cell_type": "code",
   "execution_count": 65,
   "metadata": {},
   "outputs": [
    {
     "name": "stderr",
     "output_type": "stream",
     "text": [
      "24/03/15 18:04:22 WARN ExcelHeaderChecker: Number of column in Excel header is not equal to number of fields in the schema:\n",
      " Header length: 33, schema size: 1\n",
      "Excel file: file:///Users/dragonh/Workspace/intern/2024Q2/raw_data/Raw%20Data_To%20interns_Contacts.xlsx\n",
      "                                                                                \r"
     ]
    },
    {
     "data": {
      "application/vnd.plotly.v1+json": {
       "config": {
        "plotlyServerURL": "https://plot.ly"
       },
       "data": [
        {
         "domain": {
          "x": [
           0,
           1
          ],
          "y": [
           0,
           1
          ]
         },
         "hovertemplate": "index=%{label}<br>count=%{value}<extra></extra>",
         "labels": [
          0,
          1,
          2,
          3,
          4,
          5,
          6,
          7,
          8,
          9,
          10,
          11,
          12,
          13,
          14,
          15,
          16,
          17,
          18,
          19,
          20
         ],
         "legendgroup": "",
         "name": "",
         "showlegend": true,
         "type": "pie",
         "values": [
          9810,
          2621,
          14350,
          734,
          1669,
          99,
          1139,
          966,
          1369,
          9398,
          7091,
          1031,
          6768,
          146,
          919,
          895,
          1537,
          1567,
          721,
          394,
          4647
         ]
        }
       ],
       "layout": {
        "legend": {
         "tracegroupgap": 0
        },
        "margin": {
         "t": 60
        },
        "template": {
         "data": {
          "bar": [
           {
            "error_x": {
             "color": "#2a3f5f"
            },
            "error_y": {
             "color": "#2a3f5f"
            },
            "marker": {
             "line": {
              "color": "#E5ECF6",
              "width": 0.5
             },
             "pattern": {
              "fillmode": "overlay",
              "size": 10,
              "solidity": 0.2
             }
            },
            "type": "bar"
           }
          ],
          "barpolar": [
           {
            "marker": {
             "line": {
              "color": "#E5ECF6",
              "width": 0.5
             },
             "pattern": {
              "fillmode": "overlay",
              "size": 10,
              "solidity": 0.2
             }
            },
            "type": "barpolar"
           }
          ],
          "carpet": [
           {
            "aaxis": {
             "endlinecolor": "#2a3f5f",
             "gridcolor": "white",
             "linecolor": "white",
             "minorgridcolor": "white",
             "startlinecolor": "#2a3f5f"
            },
            "baxis": {
             "endlinecolor": "#2a3f5f",
             "gridcolor": "white",
             "linecolor": "white",
             "minorgridcolor": "white",
             "startlinecolor": "#2a3f5f"
            },
            "type": "carpet"
           }
          ],
          "choropleth": [
           {
            "colorbar": {
             "outlinewidth": 0,
             "ticks": ""
            },
            "type": "choropleth"
           }
          ],
          "contour": [
           {
            "colorbar": {
             "outlinewidth": 0,
             "ticks": ""
            },
            "colorscale": [
             [
              0,
              "#0d0887"
             ],
             [
              0.1111111111111111,
              "#46039f"
             ],
             [
              0.2222222222222222,
              "#7201a8"
             ],
             [
              0.3333333333333333,
              "#9c179e"
             ],
             [
              0.4444444444444444,
              "#bd3786"
             ],
             [
              0.5555555555555556,
              "#d8576b"
             ],
             [
              0.6666666666666666,
              "#ed7953"
             ],
             [
              0.7777777777777778,
              "#fb9f3a"
             ],
             [
              0.8888888888888888,
              "#fdca26"
             ],
             [
              1,
              "#f0f921"
             ]
            ],
            "type": "contour"
           }
          ],
          "contourcarpet": [
           {
            "colorbar": {
             "outlinewidth": 0,
             "ticks": ""
            },
            "type": "contourcarpet"
           }
          ],
          "heatmap": [
           {
            "colorbar": {
             "outlinewidth": 0,
             "ticks": ""
            },
            "colorscale": [
             [
              0,
              "#0d0887"
             ],
             [
              0.1111111111111111,
              "#46039f"
             ],
             [
              0.2222222222222222,
              "#7201a8"
             ],
             [
              0.3333333333333333,
              "#9c179e"
             ],
             [
              0.4444444444444444,
              "#bd3786"
             ],
             [
              0.5555555555555556,
              "#d8576b"
             ],
             [
              0.6666666666666666,
              "#ed7953"
             ],
             [
              0.7777777777777778,
              "#fb9f3a"
             ],
             [
              0.8888888888888888,
              "#fdca26"
             ],
             [
              1,
              "#f0f921"
             ]
            ],
            "type": "heatmap"
           }
          ],
          "heatmapgl": [
           {
            "colorbar": {
             "outlinewidth": 0,
             "ticks": ""
            },
            "colorscale": [
             [
              0,
              "#0d0887"
             ],
             [
              0.1111111111111111,
              "#46039f"
             ],
             [
              0.2222222222222222,
              "#7201a8"
             ],
             [
              0.3333333333333333,
              "#9c179e"
             ],
             [
              0.4444444444444444,
              "#bd3786"
             ],
             [
              0.5555555555555556,
              "#d8576b"
             ],
             [
              0.6666666666666666,
              "#ed7953"
             ],
             [
              0.7777777777777778,
              "#fb9f3a"
             ],
             [
              0.8888888888888888,
              "#fdca26"
             ],
             [
              1,
              "#f0f921"
             ]
            ],
            "type": "heatmapgl"
           }
          ],
          "histogram": [
           {
            "marker": {
             "pattern": {
              "fillmode": "overlay",
              "size": 10,
              "solidity": 0.2
             }
            },
            "type": "histogram"
           }
          ],
          "histogram2d": [
           {
            "colorbar": {
             "outlinewidth": 0,
             "ticks": ""
            },
            "colorscale": [
             [
              0,
              "#0d0887"
             ],
             [
              0.1111111111111111,
              "#46039f"
             ],
             [
              0.2222222222222222,
              "#7201a8"
             ],
             [
              0.3333333333333333,
              "#9c179e"
             ],
             [
              0.4444444444444444,
              "#bd3786"
             ],
             [
              0.5555555555555556,
              "#d8576b"
             ],
             [
              0.6666666666666666,
              "#ed7953"
             ],
             [
              0.7777777777777778,
              "#fb9f3a"
             ],
             [
              0.8888888888888888,
              "#fdca26"
             ],
             [
              1,
              "#f0f921"
             ]
            ],
            "type": "histogram2d"
           }
          ],
          "histogram2dcontour": [
           {
            "colorbar": {
             "outlinewidth": 0,
             "ticks": ""
            },
            "colorscale": [
             [
              0,
              "#0d0887"
             ],
             [
              0.1111111111111111,
              "#46039f"
             ],
             [
              0.2222222222222222,
              "#7201a8"
             ],
             [
              0.3333333333333333,
              "#9c179e"
             ],
             [
              0.4444444444444444,
              "#bd3786"
             ],
             [
              0.5555555555555556,
              "#d8576b"
             ],
             [
              0.6666666666666666,
              "#ed7953"
             ],
             [
              0.7777777777777778,
              "#fb9f3a"
             ],
             [
              0.8888888888888888,
              "#fdca26"
             ],
             [
              1,
              "#f0f921"
             ]
            ],
            "type": "histogram2dcontour"
           }
          ],
          "mesh3d": [
           {
            "colorbar": {
             "outlinewidth": 0,
             "ticks": ""
            },
            "type": "mesh3d"
           }
          ],
          "parcoords": [
           {
            "line": {
             "colorbar": {
              "outlinewidth": 0,
              "ticks": ""
             }
            },
            "type": "parcoords"
           }
          ],
          "pie": [
           {
            "automargin": true,
            "type": "pie"
           }
          ],
          "scatter": [
           {
            "fillpattern": {
             "fillmode": "overlay",
             "size": 10,
             "solidity": 0.2
            },
            "type": "scatter"
           }
          ],
          "scatter3d": [
           {
            "line": {
             "colorbar": {
              "outlinewidth": 0,
              "ticks": ""
             }
            },
            "marker": {
             "colorbar": {
              "outlinewidth": 0,
              "ticks": ""
             }
            },
            "type": "scatter3d"
           }
          ],
          "scattercarpet": [
           {
            "marker": {
             "colorbar": {
              "outlinewidth": 0,
              "ticks": ""
             }
            },
            "type": "scattercarpet"
           }
          ],
          "scattergeo": [
           {
            "marker": {
             "colorbar": {
              "outlinewidth": 0,
              "ticks": ""
             }
            },
            "type": "scattergeo"
           }
          ],
          "scattergl": [
           {
            "marker": {
             "colorbar": {
              "outlinewidth": 0,
              "ticks": ""
             }
            },
            "type": "scattergl"
           }
          ],
          "scattermapbox": [
           {
            "marker": {
             "colorbar": {
              "outlinewidth": 0,
              "ticks": ""
             }
            },
            "type": "scattermapbox"
           }
          ],
          "scatterpolar": [
           {
            "marker": {
             "colorbar": {
              "outlinewidth": 0,
              "ticks": ""
             }
            },
            "type": "scatterpolar"
           }
          ],
          "scatterpolargl": [
           {
            "marker": {
             "colorbar": {
              "outlinewidth": 0,
              "ticks": ""
             }
            },
            "type": "scatterpolargl"
           }
          ],
          "scatterternary": [
           {
            "marker": {
             "colorbar": {
              "outlinewidth": 0,
              "ticks": ""
             }
            },
            "type": "scatterternary"
           }
          ],
          "surface": [
           {
            "colorbar": {
             "outlinewidth": 0,
             "ticks": ""
            },
            "colorscale": [
             [
              0,
              "#0d0887"
             ],
             [
              0.1111111111111111,
              "#46039f"
             ],
             [
              0.2222222222222222,
              "#7201a8"
             ],
             [
              0.3333333333333333,
              "#9c179e"
             ],
             [
              0.4444444444444444,
              "#bd3786"
             ],
             [
              0.5555555555555556,
              "#d8576b"
             ],
             [
              0.6666666666666666,
              "#ed7953"
             ],
             [
              0.7777777777777778,
              "#fb9f3a"
             ],
             [
              0.8888888888888888,
              "#fdca26"
             ],
             [
              1,
              "#f0f921"
             ]
            ],
            "type": "surface"
           }
          ],
          "table": [
           {
            "cells": {
             "fill": {
              "color": "#EBF0F8"
             },
             "line": {
              "color": "white"
             }
            },
            "header": {
             "fill": {
              "color": "#C8D4E3"
             },
             "line": {
              "color": "white"
             }
            },
            "type": "table"
           }
          ]
         },
         "layout": {
          "annotationdefaults": {
           "arrowcolor": "#2a3f5f",
           "arrowhead": 0,
           "arrowwidth": 1
          },
          "autotypenumbers": "strict",
          "coloraxis": {
           "colorbar": {
            "outlinewidth": 0,
            "ticks": ""
           }
          },
          "colorscale": {
           "diverging": [
            [
             0,
             "#8e0152"
            ],
            [
             0.1,
             "#c51b7d"
            ],
            [
             0.2,
             "#de77ae"
            ],
            [
             0.3,
             "#f1b6da"
            ],
            [
             0.4,
             "#fde0ef"
            ],
            [
             0.5,
             "#f7f7f7"
            ],
            [
             0.6,
             "#e6f5d0"
            ],
            [
             0.7,
             "#b8e186"
            ],
            [
             0.8,
             "#7fbc41"
            ],
            [
             0.9,
             "#4d9221"
            ],
            [
             1,
             "#276419"
            ]
           ],
           "sequential": [
            [
             0,
             "#0d0887"
            ],
            [
             0.1111111111111111,
             "#46039f"
            ],
            [
             0.2222222222222222,
             "#7201a8"
            ],
            [
             0.3333333333333333,
             "#9c179e"
            ],
            [
             0.4444444444444444,
             "#bd3786"
            ],
            [
             0.5555555555555556,
             "#d8576b"
            ],
            [
             0.6666666666666666,
             "#ed7953"
            ],
            [
             0.7777777777777778,
             "#fb9f3a"
            ],
            [
             0.8888888888888888,
             "#fdca26"
            ],
            [
             1,
             "#f0f921"
            ]
           ],
           "sequentialminus": [
            [
             0,
             "#0d0887"
            ],
            [
             0.1111111111111111,
             "#46039f"
            ],
            [
             0.2222222222222222,
             "#7201a8"
            ],
            [
             0.3333333333333333,
             "#9c179e"
            ],
            [
             0.4444444444444444,
             "#bd3786"
            ],
            [
             0.5555555555555556,
             "#d8576b"
            ],
            [
             0.6666666666666666,
             "#ed7953"
            ],
            [
             0.7777777777777778,
             "#fb9f3a"
            ],
            [
             0.8888888888888888,
             "#fdca26"
            ],
            [
             1,
             "#f0f921"
            ]
           ]
          },
          "colorway": [
           "#636efa",
           "#EF553B",
           "#00cc96",
           "#ab63fa",
           "#FFA15A",
           "#19d3f3",
           "#FF6692",
           "#B6E880",
           "#FF97FF",
           "#FECB52"
          ],
          "font": {
           "color": "#2a3f5f"
          },
          "geo": {
           "bgcolor": "white",
           "lakecolor": "white",
           "landcolor": "#E5ECF6",
           "showlakes": true,
           "showland": true,
           "subunitcolor": "white"
          },
          "hoverlabel": {
           "align": "left"
          },
          "hovermode": "closest",
          "mapbox": {
           "style": "light"
          },
          "paper_bgcolor": "white",
          "plot_bgcolor": "#E5ECF6",
          "polar": {
           "angularaxis": {
            "gridcolor": "white",
            "linecolor": "white",
            "ticks": ""
           },
           "bgcolor": "#E5ECF6",
           "radialaxis": {
            "gridcolor": "white",
            "linecolor": "white",
            "ticks": ""
           }
          },
          "scene": {
           "xaxis": {
            "backgroundcolor": "#E5ECF6",
            "gridcolor": "white",
            "gridwidth": 2,
            "linecolor": "white",
            "showbackground": true,
            "ticks": "",
            "zerolinecolor": "white"
           },
           "yaxis": {
            "backgroundcolor": "#E5ECF6",
            "gridcolor": "white",
            "gridwidth": 2,
            "linecolor": "white",
            "showbackground": true,
            "ticks": "",
            "zerolinecolor": "white"
           },
           "zaxis": {
            "backgroundcolor": "#E5ECF6",
            "gridcolor": "white",
            "gridwidth": 2,
            "linecolor": "white",
            "showbackground": true,
            "ticks": "",
            "zerolinecolor": "white"
           }
          },
          "shapedefaults": {
           "line": {
            "color": "#2a3f5f"
           }
          },
          "ternary": {
           "aaxis": {
            "gridcolor": "white",
            "linecolor": "white",
            "ticks": ""
           },
           "baxis": {
            "gridcolor": "white",
            "linecolor": "white",
            "ticks": ""
           },
           "bgcolor": "#E5ECF6",
           "caxis": {
            "gridcolor": "white",
            "linecolor": "white",
            "ticks": ""
           }
          },
          "title": {
           "x": 0.05
          },
          "xaxis": {
           "automargin": true,
           "gridcolor": "white",
           "linecolor": "white",
           "ticks": "",
           "title": {
            "standoff": 15
           },
           "zerolinecolor": "white",
           "zerolinewidth": 2
          },
          "yaxis": {
           "automargin": true,
           "gridcolor": "white",
           "linecolor": "white",
           "ticks": "",
           "title": {
            "standoff": 15
           },
           "zerolinecolor": "white",
           "zerolinewidth": 2
          }
         }
        }
       }
      }
     },
     "metadata": {},
     "output_type": "display_data"
    }
   ],
   "source": [
    "# df.select('MailingCity').pandas_api().plot.pie(y='MailingCity')\n",
    "df.groupBy('MailingCity').count().select('MailingCity', functions.col('count')).pandas_api().plot.pie(y='count')"
   ]
  },
  {
   "cell_type": "code",
   "execution_count": 66,
   "metadata": {},
   "outputs": [],
   "source": [
    "df.createOrReplaceTempView('contact')"
   ]
  },
  {
   "cell_type": "code",
   "execution_count": 67,
   "metadata": {},
   "outputs": [
    {
     "name": "stderr",
     "output_type": "stream",
     "text": [
      "[Stage 92:>                                                         (0 + 1) / 1]\r"
     ]
    },
    {
     "name": "stdout",
     "output_type": "stream",
     "text": [
      "+----+----------+--------------+---------+---------------+----------+-----+-----------+---------------+------------+-----------------+--------------+----------+--------------------+-------------+--------------+----------------------+-----------+------+-------------+------+-----------+--------------------+------------------+----------------+--------------+---------------------+------------+------------+---------------+-------+----------------+-------------+\n",
      "|  Id|externalid|MasterRecordId|AccountId|IsPersonAccount|Salutation| Name|MailingCity|MailingDistrict|MailingState|MailingPostalCode|MailingCountry|    Mobile|               Email|    Birthdate|   CreatedDate|mobile_country_code__c|nickname__c|sex__c|crm_custid__c| no__c| fb_uuid__c|        line_uuid__c|member_level_id__c|register_type__c| login_date__c|last_transfer_date__c|is_epaper__c|is_useful__c|block_status__c|site__c|register_date__c|modify_day__c|\n",
      "+----+----------+--------------+---------+---------------+----------+-----+-----------+---------------+------------+-----------------+--------------+----------+--------------------+-------------+--------------+----------------------+-----------+------+-------------+------+-----------+--------------------+------------------+----------------+--------------+---------------------+------------+------------+---------------+-------+----------------+-------------+\n",
      "|NULL|    183768|          NULL|     NULL|              1|      NULL|威O煌|     屏東縣|         佳冬鄉|        NULL|              931|          本島|0960*****7|  aaa*****@gmail.com| 10/6/98 0:00| 3/28/22 19:00|                   886|       NULL|     1|        40972| 40972|3.49625E+14|                NULL|              DR01|        facebook| 3/13/18 21:10|         2/4/20 11:36|           1|           1|              0|     TW|     3/9/18 0:00|  3/9/18 0:00|\n",
      "|NULL|    183765|          NULL|     NULL|              1|      NULL|黃O蓉|     台南市|         南區新|        NULL|              702|          本島|0935*****7|jes*****@livemail.tw|  1/1/86 0:00| 3/22/22 19:01|                   886|       NULL|     0|        96425| 64707|       NULL|                NULL|              DR01|        手機註冊| 11/12/18 0:54|         2/4/20 11:36|           0|           1|              0|     TW|    11/6/18 0:00| 11/7/18 0:00|\n",
      "|NULL|    183719|          NULL|     NULL|              1|      NULL|林O心|     台北市|         信義區|        NULL|              110|          本島|0983*****2| rer*****@epr.com.tw|  8/1/97 0:00| 1/24/22 19:01|                   886|       NULL|     0|       164874|131510|       NULL|                NULL|              DR01|        首購註冊| 9/11/20 16:15|         9/12/20 1:30|           1|           1|              0|     TW|    9/11/20 0:00| 9/11/20 0:00|\n",
      "|NULL|    183718|          NULL|     NULL|              1|      NULL|黃O文|     新北市|         中和區|        NULL|              235|          本島|0976*****1|  una*****@gmail.com| 10/1/83 0:00| 1/24/22 19:01|                   886|      U***a|     0|       197026|163748|       NULL|Ue9cb7ae5d1edd7c5...|              DR01|        line登入| 5/24/21 19:17|         5/25/21 1:30|           1|           1|              0|     TW|    5/24/21 0:00| 5/24/21 0:00|\n",
      "|NULL|    183711|          NULL|     NULL|              1|      NULL|林O瑜|     台北市|         中山區|        NULL|              104|          本島|0975*****2|  win*****@gmail.com|  2/1/94 0:00| 1/11/22 19:01|                   886|       NULL|     0|       197060|163800|       NULL|                NULL|              DR01|        首購註冊|  5/25/21 0:00|         5/26/21 1:30|           1|           1|              0|     TW|    5/25/21 0:00| 5/25/21 0:00|\n",
      "|NULL|    183710|          NULL|     NULL|              1|      NULL|陳O亘|     新北市|         板橋區|        NULL|              220|          本島|0920*****3|  nte*****@gmail.com|  4/1/01 0:00| 1/10/22 19:01|                   886|    陳***亘|     0|         NULL|135056|1.02113E+15|                NULL|              DR01|        facebook|10/12/20 20:42|        10/13/20 1:30|           1|           1|              0|     TW|   10/12/20 0:00|10/12/20 0:00|\n",
      "|NULL|    183709|          NULL|     NULL|              1|      NULL|黃O瑩|     台北市|         大安區|        NULL|              106|          本島|0988*****1|  cry*****@gmail.com|  9/1/60 0:00|  1/7/22 19:00|                   886|       NULL|     0|        95786| 64052|1.84955E+15|                NULL|              DR01|        facebook| 9/13/20 20:16|         9/14/20 1:30|           0|           1|              0|     TW|   10/30/18 0:00| 9/13/20 0:00|\n",
      "|NULL|    183704|          NULL|     NULL|              1|      NULL|郭O蓮|     新北市|         中和區|        NULL|              235|          本島|0953*****8|tzu*****@yahoo.co...|  9/1/75 0:00|12/22/21 19:01|                   886|    慈***蓮|     0|       208919|175496|       NULL|Ube23b6e54dfd4b76...|              DR01|        會員中心|  8/25/21 9:40|         9/1/21 17:15|           1|           1|              0|     TW|    7/21/21 0:00| 8/25/21 0:00|\n",
      "|NULL|    183702|          NULL|     NULL|              1|      NULL|葉O嫣|     苗栗縣|         後龍鎮|        NULL|              356|          本島|0955*****3|  yan*****@gmail.com| 10/1/97 0:00|12/22/21 19:01|                   886|       NULL|     0|       187429|154258|       NULL|                NULL|              DR01|        會員中心| 5/14/21 16:42|         5/15/21 1:30|           1|           1|              0|     TW|     3/3/21 0:00| 5/14/21 0:00|\n",
      "|NULL|    183703|          NULL|     NULL|              1|      NULL|沈O瑜|     屏東縣|         屏東市|        NULL|              900|          本島|0908*****7|              *****@|  1/1/04 0:00|12/22/21 19:01|                   886|       NULL|     0|       187644|154393|       NULL|Uc1737524b5d882e9...|              DR01|        line登入|  3/4/21 18:06|          3/5/21 1:30|           1|           1|              0|     TW|     3/4/21 0:00|  3/4/21 0:00|\n",
      "|NULL|    183701|          NULL|     NULL|              1|      NULL|周O瑩|     新竹縣|         湖口鄉|        NULL|              303|          本島|0920*****3|az4*****@yahoo.co...| 11/1/90 0:00|12/22/21 19:01|                   886|    周***瑩|     0|       120019| 89258|3.14488E+15|U2a9c9ff1e55834f9...|              DR01|        facebook| 7/19/21 12:46|         7/20/21 1:30|           1|           1|              0|     TW|    9/10/19 0:00| 7/19/21 0:00|\n",
      "|NULL|    183700|          NULL|     NULL|              1|      NULL|傅O瑮|     嘉義縣|         太保市|        NULL|              612|          本島|0905*****3|  hty*****@gmail.com| 10/1/98 0:00|12/22/21 19:01|                   886|    傅***瑮|     0|       157857|124290|1.86109E+15|                NULL|              DR01|        facebook| 7/31/20 13:58|          8/1/20 1:30|           1|           1|              0|     TW|    7/30/20 0:00| 7/31/20 0:00|\n",
      "|NULL|    183698|          NULL|     NULL|              1|      NULL|姚O靚|     台中市|         北區美|        NULL|              404|          本島|0952*****1|  lei*****@gmail.com|10/10/94 0:00|12/22/21 19:00|                   886|       NULL|     0|        42141| 42141|       NULL|                NULL|              DR01|             sso|  4/9/18 21:25|         2/4/20 11:36|           1|           1|              0|     TW|    3/20/18 0:00| 3/20/18 0:00|\n",
      "|NULL|    183697|          NULL|     NULL|              1|      NULL|蔡O娟|     高雄市|         苓雅區|        NULL|              802|          本島|0932*****9|tsa*****@yahoo.co...|11/27/73 0:00|12/20/21 19:00|                   886|       NULL|     0|        34639| 34639| 1.7097E+15|                NULL|              DR01|        facebook|12/24/19 22:46|         2/4/20 11:36|           1|           1|              0|     TW|   12/21/17 0:00|11/26/18 0:00|\n",
      "|NULL|    183689|          NULL|     NULL|              1|      NULL|張O祖|     台北市|         信義區|        NULL|              110|          本島|0933*****8|  nia*****@gmail.com|  4/1/64 0:00| 12/1/21 19:00|                   886|       NULL|     0|       106880| 75283|       NULL|                NULL|              DR01|        會員中心|   6/6/19 9:55|         2/4/20 11:36|           1|           1|              0|     TW|    3/24/19 0:00| 3/24/19 0:00|\n",
      "|NULL|    183688|          NULL|     NULL|              1|      NULL|徐O傑|     新北市|         永和區|        NULL|              234|          本島|0975*****9|  nic*****@gmail.com|  2/1/88 0:00|11/30/21 19:00|                   886|✨徐尼克Nick|     1|       175278|142211|1.02247E+16|U2f382be8033cbac7...|              DR01|        line登入|  6/6/21 13:42|          6/7/21 1:30|           1|           1|              0|     TW|   11/23/20 0:00|  6/6/21 0:00|\n",
      "|NULL|    183683|          NULL|     NULL|              1|      NULL|葉O彣|     台南市|         善化區|        NULL|              741|          本島|0933*****4|ji6*****@yahoo.co...|  3/1/90 0:00|11/29/21 19:01|                   886|      J***h|     0|       187249|153965|2.32068E+15|                NULL|              DR01|        facebook|  3/1/21 10:03|          3/2/21 1:30|           1|           1|              0|     TW|     3/1/21 0:00|  3/1/21 0:00|\n",
      "|NULL|    183679|          NULL|     NULL|              1|      NULL|鄭O喻|     嘉義縣|         大林鎮|        NULL|              622|          本島|0937*****5|              *****@|  3/1/01 0:00|11/24/21 19:01|                   886|    鄭***喻|     0|       200031|166795|       NULL|Ue33727c05a6f2ceb...|              DR01|        line登入| 8/17/21 16:26|         8/18/21 1:30|           1|           1|              0|     TW|    6/14/21 0:00| 8/17/21 0:00|\n",
      "|NULL|    183680|          NULL|     NULL|              1|      NULL|冀O琪|     台中市|         西屯區|        NULL|              407|          本島|0970*****6|  smi*****@gmail.com|  2/1/90 0:00|11/24/21 19:01|                   886|       NULL|     0|       133480|100184|2.93042E+15|                NULL|              DR01|        facebook|  2/1/20 11:37|         2/4/20 11:36|           0|           1|              0|     TW|   12/12/19 0:00|12/12/19 0:00|\n",
      "|NULL|    183633|          NULL|     NULL|              1|      NULL|林O芬|     台北市|         內湖區|        NULL|              114|          本島|0937*****6|  fen*****@gmail.com|  2/1/50 0:00| 10/1/21 19:01|                   886|    瑞***芬|     0|       193691|160481|       NULL|U4c9932482461a395...|              DR01|        line登入|  7/2/21 15:49|          7/3/21 1:30|           1|           1|              0|     TW|    4/23/21 0:00|  7/2/21 0:00|\n",
      "+----+----------+--------------+---------+---------------+----------+-----+-----------+---------------+------------+-----------------+--------------+----------+--------------------+-------------+--------------+----------------------+-----------+------+-------------+------+-----------+--------------------+------------------+----------------+--------------+---------------------+------------+------------+---------------+-------+----------------+-------------+\n",
      "only showing top 20 rows\n",
      "\n"
     ]
    },
    {
     "name": "stderr",
     "output_type": "stream",
     "text": [
      "                                                                                \r"
     ]
    }
   ],
   "source": [
    "spark.sql(\n",
    "    \"\"\"\n",
    "        SELECT\n",
    "            *\n",
    "        FROM\n",
    "            contact\n",
    "    \"\"\"\n",
    ").show()"
   ]
  },
  {
   "cell_type": "code",
   "execution_count": 68,
   "metadata": {},
   "outputs": [
    {
     "name": "stderr",
     "output_type": "stream",
     "text": [
      "24/03/15 18:04:35 WARN ExcelHeaderChecker: Number of column in Excel header is not equal to number of fields in the schema:\n",
      " Header length: 33, schema size: 1\n",
      "Excel file: file:///Users/dragonh/Workspace/intern/2024Q2/raw_data/Raw%20Data_To%20interns_Contacts.xlsx\n"
     ]
    },
    {
     "name": "stdout",
     "output_type": "stream",
     "text": [
      "+-------------------+-------------+\n",
      "|      created_month|created_count|\n",
      "+-------------------+-------------+\n",
      "|2020-03-01 00:00:00|        43030|\n",
      "|2020-04-01 00:00:00|         1489|\n",
      "|2020-05-01 00:00:00|         1084|\n",
      "|2020-06-01 00:00:00|         1317|\n",
      "|2020-07-01 00:00:00|         1885|\n",
      "|2020-08-01 00:00:00|         2476|\n",
      "|2020-09-01 00:00:00|         1205|\n",
      "|2020-10-01 00:00:00|         1241|\n",
      "|2020-11-01 00:00:00|         2785|\n",
      "|2020-12-01 00:00:00|         1210|\n",
      "|2021-01-01 00:00:00|          885|\n",
      "|2021-02-01 00:00:00|          756|\n",
      "|2021-03-01 00:00:00|          819|\n",
      "|2021-04-01 00:00:00|          640|\n",
      "|2021-05-01 00:00:00|          944|\n",
      "|2021-06-01 00:00:00|         1980|\n",
      "|2021-07-01 00:00:00|         2486|\n",
      "|2021-08-01 00:00:00|         1409|\n",
      "|2021-09-01 00:00:00|          210|\n",
      "|2021-10-01 00:00:00|            1|\n",
      "+-------------------+-------------+\n",
      "only showing top 20 rows\n",
      "\n"
     ]
    },
    {
     "name": "stderr",
     "output_type": "stream",
     "text": [
      "                                                                                \r"
     ]
    }
   ],
   "source": [
    "member_create_analysis_df = spark.sql(\n",
    "    \"\"\"\n",
    "        SELECT\n",
    "            contact_formated.created_month as created_month,\n",
    "            COUNT(1) AS created_count\n",
    "        FROM (\n",
    "            SELECT\n",
    "                DATE_TRUNC('MM', to_timestamp(CreatedDate, 'M/d/yy HH:mm')) AS created_month\n",
    "            FROM\n",
    "                contact\n",
    "        ) contact_formated\n",
    "        GROUP BY\n",
    "            created_month\n",
    "        ORDER BY\n",
    "            created_month\n",
    "        ASC\n",
    "    \"\"\"\n",
    ")\n",
    "member_create_analysis_df.show()"
   ]
  },
  {
   "cell_type": "code",
   "execution_count": 69,
   "metadata": {},
   "outputs": [
    {
     "name": "stderr",
     "output_type": "stream",
     "text": [
      "24/03/15 18:04:47 WARN ExcelHeaderChecker: Number of column in Excel header is not equal to number of fields in the schema:\n",
      " Header length: 33, schema size: 1\n",
      "Excel file: file:///Users/dragonh/Workspace/intern/2024Q2/raw_data/Raw%20Data_To%20interns_Contacts.xlsx\n",
      "24/03/15 18:04:59 WARN ExcelHeaderChecker: Number of column in Excel header is not equal to number of fields in the schema:\n",
      " Header length: 33, schema size: 1\n",
      "Excel file: file:///Users/dragonh/Workspace/intern/2024Q2/raw_data/Raw%20Data_To%20interns_Contacts.xlsx\n",
      "                                                                                \r"
     ]
    },
    {
     "data": {
      "application/vnd.plotly.v1+json": {
       "config": {
        "plotlyServerURL": "https://plot.ly"
       },
       "data": [
        {
         "hovertemplate": "created_month=%{x}<br>created_count=%{y}<extra></extra>",
         "legendgroup": "",
         "line": {
          "color": "#636efa",
          "dash": "solid"
         },
         "marker": {
          "symbol": "circle"
         },
         "mode": "lines",
         "name": "",
         "orientation": "v",
         "showlegend": false,
         "type": "scatter",
         "x": [
          "2020-03-01T00:00:00",
          "2020-04-01T00:00:00",
          "2020-05-01T00:00:00",
          "2020-06-01T00:00:00",
          "2020-07-01T00:00:00",
          "2020-08-01T00:00:00",
          "2020-09-01T00:00:00",
          "2020-10-01T00:00:00",
          "2020-11-01T00:00:00",
          "2020-12-01T00:00:00",
          "2021-01-01T00:00:00",
          "2021-02-01T00:00:00",
          "2021-03-01T00:00:00",
          "2021-04-01T00:00:00",
          "2021-05-01T00:00:00",
          "2021-06-01T00:00:00",
          "2021-07-01T00:00:00",
          "2021-08-01T00:00:00",
          "2021-09-01T00:00:00",
          "2021-10-01T00:00:00",
          "2021-11-01T00:00:00",
          "2021-12-01T00:00:00",
          "2022-01-01T00:00:00",
          "2022-03-01T00:00:00"
         ],
         "xaxis": "x",
         "y": [
          43030,
          1489,
          1084,
          1317,
          1885,
          2476,
          1205,
          1241,
          2785,
          1210,
          885,
          756,
          819,
          640,
          944,
          1980,
          2486,
          1409,
          210,
          1,
          4,
          8,
          5,
          2
         ],
         "yaxis": "y"
        }
       ],
       "layout": {
        "legend": {
         "tracegroupgap": 0
        },
        "margin": {
         "t": 60
        },
        "template": {
         "data": {
          "bar": [
           {
            "error_x": {
             "color": "#2a3f5f"
            },
            "error_y": {
             "color": "#2a3f5f"
            },
            "marker": {
             "line": {
              "color": "#E5ECF6",
              "width": 0.5
             },
             "pattern": {
              "fillmode": "overlay",
              "size": 10,
              "solidity": 0.2
             }
            },
            "type": "bar"
           }
          ],
          "barpolar": [
           {
            "marker": {
             "line": {
              "color": "#E5ECF6",
              "width": 0.5
             },
             "pattern": {
              "fillmode": "overlay",
              "size": 10,
              "solidity": 0.2
             }
            },
            "type": "barpolar"
           }
          ],
          "carpet": [
           {
            "aaxis": {
             "endlinecolor": "#2a3f5f",
             "gridcolor": "white",
             "linecolor": "white",
             "minorgridcolor": "white",
             "startlinecolor": "#2a3f5f"
            },
            "baxis": {
             "endlinecolor": "#2a3f5f",
             "gridcolor": "white",
             "linecolor": "white",
             "minorgridcolor": "white",
             "startlinecolor": "#2a3f5f"
            },
            "type": "carpet"
           }
          ],
          "choropleth": [
           {
            "colorbar": {
             "outlinewidth": 0,
             "ticks": ""
            },
            "type": "choropleth"
           }
          ],
          "contour": [
           {
            "colorbar": {
             "outlinewidth": 0,
             "ticks": ""
            },
            "colorscale": [
             [
              0,
              "#0d0887"
             ],
             [
              0.1111111111111111,
              "#46039f"
             ],
             [
              0.2222222222222222,
              "#7201a8"
             ],
             [
              0.3333333333333333,
              "#9c179e"
             ],
             [
              0.4444444444444444,
              "#bd3786"
             ],
             [
              0.5555555555555556,
              "#d8576b"
             ],
             [
              0.6666666666666666,
              "#ed7953"
             ],
             [
              0.7777777777777778,
              "#fb9f3a"
             ],
             [
              0.8888888888888888,
              "#fdca26"
             ],
             [
              1,
              "#f0f921"
             ]
            ],
            "type": "contour"
           }
          ],
          "contourcarpet": [
           {
            "colorbar": {
             "outlinewidth": 0,
             "ticks": ""
            },
            "type": "contourcarpet"
           }
          ],
          "heatmap": [
           {
            "colorbar": {
             "outlinewidth": 0,
             "ticks": ""
            },
            "colorscale": [
             [
              0,
              "#0d0887"
             ],
             [
              0.1111111111111111,
              "#46039f"
             ],
             [
              0.2222222222222222,
              "#7201a8"
             ],
             [
              0.3333333333333333,
              "#9c179e"
             ],
             [
              0.4444444444444444,
              "#bd3786"
             ],
             [
              0.5555555555555556,
              "#d8576b"
             ],
             [
              0.6666666666666666,
              "#ed7953"
             ],
             [
              0.7777777777777778,
              "#fb9f3a"
             ],
             [
              0.8888888888888888,
              "#fdca26"
             ],
             [
              1,
              "#f0f921"
             ]
            ],
            "type": "heatmap"
           }
          ],
          "heatmapgl": [
           {
            "colorbar": {
             "outlinewidth": 0,
             "ticks": ""
            },
            "colorscale": [
             [
              0,
              "#0d0887"
             ],
             [
              0.1111111111111111,
              "#46039f"
             ],
             [
              0.2222222222222222,
              "#7201a8"
             ],
             [
              0.3333333333333333,
              "#9c179e"
             ],
             [
              0.4444444444444444,
              "#bd3786"
             ],
             [
              0.5555555555555556,
              "#d8576b"
             ],
             [
              0.6666666666666666,
              "#ed7953"
             ],
             [
              0.7777777777777778,
              "#fb9f3a"
             ],
             [
              0.8888888888888888,
              "#fdca26"
             ],
             [
              1,
              "#f0f921"
             ]
            ],
            "type": "heatmapgl"
           }
          ],
          "histogram": [
           {
            "marker": {
             "pattern": {
              "fillmode": "overlay",
              "size": 10,
              "solidity": 0.2
             }
            },
            "type": "histogram"
           }
          ],
          "histogram2d": [
           {
            "colorbar": {
             "outlinewidth": 0,
             "ticks": ""
            },
            "colorscale": [
             [
              0,
              "#0d0887"
             ],
             [
              0.1111111111111111,
              "#46039f"
             ],
             [
              0.2222222222222222,
              "#7201a8"
             ],
             [
              0.3333333333333333,
              "#9c179e"
             ],
             [
              0.4444444444444444,
              "#bd3786"
             ],
             [
              0.5555555555555556,
              "#d8576b"
             ],
             [
              0.6666666666666666,
              "#ed7953"
             ],
             [
              0.7777777777777778,
              "#fb9f3a"
             ],
             [
              0.8888888888888888,
              "#fdca26"
             ],
             [
              1,
              "#f0f921"
             ]
            ],
            "type": "histogram2d"
           }
          ],
          "histogram2dcontour": [
           {
            "colorbar": {
             "outlinewidth": 0,
             "ticks": ""
            },
            "colorscale": [
             [
              0,
              "#0d0887"
             ],
             [
              0.1111111111111111,
              "#46039f"
             ],
             [
              0.2222222222222222,
              "#7201a8"
             ],
             [
              0.3333333333333333,
              "#9c179e"
             ],
             [
              0.4444444444444444,
              "#bd3786"
             ],
             [
              0.5555555555555556,
              "#d8576b"
             ],
             [
              0.6666666666666666,
              "#ed7953"
             ],
             [
              0.7777777777777778,
              "#fb9f3a"
             ],
             [
              0.8888888888888888,
              "#fdca26"
             ],
             [
              1,
              "#f0f921"
             ]
            ],
            "type": "histogram2dcontour"
           }
          ],
          "mesh3d": [
           {
            "colorbar": {
             "outlinewidth": 0,
             "ticks": ""
            },
            "type": "mesh3d"
           }
          ],
          "parcoords": [
           {
            "line": {
             "colorbar": {
              "outlinewidth": 0,
              "ticks": ""
             }
            },
            "type": "parcoords"
           }
          ],
          "pie": [
           {
            "automargin": true,
            "type": "pie"
           }
          ],
          "scatter": [
           {
            "fillpattern": {
             "fillmode": "overlay",
             "size": 10,
             "solidity": 0.2
            },
            "type": "scatter"
           }
          ],
          "scatter3d": [
           {
            "line": {
             "colorbar": {
              "outlinewidth": 0,
              "ticks": ""
             }
            },
            "marker": {
             "colorbar": {
              "outlinewidth": 0,
              "ticks": ""
             }
            },
            "type": "scatter3d"
           }
          ],
          "scattercarpet": [
           {
            "marker": {
             "colorbar": {
              "outlinewidth": 0,
              "ticks": ""
             }
            },
            "type": "scattercarpet"
           }
          ],
          "scattergeo": [
           {
            "marker": {
             "colorbar": {
              "outlinewidth": 0,
              "ticks": ""
             }
            },
            "type": "scattergeo"
           }
          ],
          "scattergl": [
           {
            "marker": {
             "colorbar": {
              "outlinewidth": 0,
              "ticks": ""
             }
            },
            "type": "scattergl"
           }
          ],
          "scattermapbox": [
           {
            "marker": {
             "colorbar": {
              "outlinewidth": 0,
              "ticks": ""
             }
            },
            "type": "scattermapbox"
           }
          ],
          "scatterpolar": [
           {
            "marker": {
             "colorbar": {
              "outlinewidth": 0,
              "ticks": ""
             }
            },
            "type": "scatterpolar"
           }
          ],
          "scatterpolargl": [
           {
            "marker": {
             "colorbar": {
              "outlinewidth": 0,
              "ticks": ""
             }
            },
            "type": "scatterpolargl"
           }
          ],
          "scatterternary": [
           {
            "marker": {
             "colorbar": {
              "outlinewidth": 0,
              "ticks": ""
             }
            },
            "type": "scatterternary"
           }
          ],
          "surface": [
           {
            "colorbar": {
             "outlinewidth": 0,
             "ticks": ""
            },
            "colorscale": [
             [
              0,
              "#0d0887"
             ],
             [
              0.1111111111111111,
              "#46039f"
             ],
             [
              0.2222222222222222,
              "#7201a8"
             ],
             [
              0.3333333333333333,
              "#9c179e"
             ],
             [
              0.4444444444444444,
              "#bd3786"
             ],
             [
              0.5555555555555556,
              "#d8576b"
             ],
             [
              0.6666666666666666,
              "#ed7953"
             ],
             [
              0.7777777777777778,
              "#fb9f3a"
             ],
             [
              0.8888888888888888,
              "#fdca26"
             ],
             [
              1,
              "#f0f921"
             ]
            ],
            "type": "surface"
           }
          ],
          "table": [
           {
            "cells": {
             "fill": {
              "color": "#EBF0F8"
             },
             "line": {
              "color": "white"
             }
            },
            "header": {
             "fill": {
              "color": "#C8D4E3"
             },
             "line": {
              "color": "white"
             }
            },
            "type": "table"
           }
          ]
         },
         "layout": {
          "annotationdefaults": {
           "arrowcolor": "#2a3f5f",
           "arrowhead": 0,
           "arrowwidth": 1
          },
          "autotypenumbers": "strict",
          "coloraxis": {
           "colorbar": {
            "outlinewidth": 0,
            "ticks": ""
           }
          },
          "colorscale": {
           "diverging": [
            [
             0,
             "#8e0152"
            ],
            [
             0.1,
             "#c51b7d"
            ],
            [
             0.2,
             "#de77ae"
            ],
            [
             0.3,
             "#f1b6da"
            ],
            [
             0.4,
             "#fde0ef"
            ],
            [
             0.5,
             "#f7f7f7"
            ],
            [
             0.6,
             "#e6f5d0"
            ],
            [
             0.7,
             "#b8e186"
            ],
            [
             0.8,
             "#7fbc41"
            ],
            [
             0.9,
             "#4d9221"
            ],
            [
             1,
             "#276419"
            ]
           ],
           "sequential": [
            [
             0,
             "#0d0887"
            ],
            [
             0.1111111111111111,
             "#46039f"
            ],
            [
             0.2222222222222222,
             "#7201a8"
            ],
            [
             0.3333333333333333,
             "#9c179e"
            ],
            [
             0.4444444444444444,
             "#bd3786"
            ],
            [
             0.5555555555555556,
             "#d8576b"
            ],
            [
             0.6666666666666666,
             "#ed7953"
            ],
            [
             0.7777777777777778,
             "#fb9f3a"
            ],
            [
             0.8888888888888888,
             "#fdca26"
            ],
            [
             1,
             "#f0f921"
            ]
           ],
           "sequentialminus": [
            [
             0,
             "#0d0887"
            ],
            [
             0.1111111111111111,
             "#46039f"
            ],
            [
             0.2222222222222222,
             "#7201a8"
            ],
            [
             0.3333333333333333,
             "#9c179e"
            ],
            [
             0.4444444444444444,
             "#bd3786"
            ],
            [
             0.5555555555555556,
             "#d8576b"
            ],
            [
             0.6666666666666666,
             "#ed7953"
            ],
            [
             0.7777777777777778,
             "#fb9f3a"
            ],
            [
             0.8888888888888888,
             "#fdca26"
            ],
            [
             1,
             "#f0f921"
            ]
           ]
          },
          "colorway": [
           "#636efa",
           "#EF553B",
           "#00cc96",
           "#ab63fa",
           "#FFA15A",
           "#19d3f3",
           "#FF6692",
           "#B6E880",
           "#FF97FF",
           "#FECB52"
          ],
          "font": {
           "color": "#2a3f5f"
          },
          "geo": {
           "bgcolor": "white",
           "lakecolor": "white",
           "landcolor": "#E5ECF6",
           "showlakes": true,
           "showland": true,
           "subunitcolor": "white"
          },
          "hoverlabel": {
           "align": "left"
          },
          "hovermode": "closest",
          "mapbox": {
           "style": "light"
          },
          "paper_bgcolor": "white",
          "plot_bgcolor": "#E5ECF6",
          "polar": {
           "angularaxis": {
            "gridcolor": "white",
            "linecolor": "white",
            "ticks": ""
           },
           "bgcolor": "#E5ECF6",
           "radialaxis": {
            "gridcolor": "white",
            "linecolor": "white",
            "ticks": ""
           }
          },
          "scene": {
           "xaxis": {
            "backgroundcolor": "#E5ECF6",
            "gridcolor": "white",
            "gridwidth": 2,
            "linecolor": "white",
            "showbackground": true,
            "ticks": "",
            "zerolinecolor": "white"
           },
           "yaxis": {
            "backgroundcolor": "#E5ECF6",
            "gridcolor": "white",
            "gridwidth": 2,
            "linecolor": "white",
            "showbackground": true,
            "ticks": "",
            "zerolinecolor": "white"
           },
           "zaxis": {
            "backgroundcolor": "#E5ECF6",
            "gridcolor": "white",
            "gridwidth": 2,
            "linecolor": "white",
            "showbackground": true,
            "ticks": "",
            "zerolinecolor": "white"
           }
          },
          "shapedefaults": {
           "line": {
            "color": "#2a3f5f"
           }
          },
          "ternary": {
           "aaxis": {
            "gridcolor": "white",
            "linecolor": "white",
            "ticks": ""
           },
           "baxis": {
            "gridcolor": "white",
            "linecolor": "white",
            "ticks": ""
           },
           "bgcolor": "#E5ECF6",
           "caxis": {
            "gridcolor": "white",
            "linecolor": "white",
            "ticks": ""
           }
          },
          "title": {
           "x": 0.05
          },
          "xaxis": {
           "automargin": true,
           "gridcolor": "white",
           "linecolor": "white",
           "ticks": "",
           "title": {
            "standoff": 15
           },
           "zerolinecolor": "white",
           "zerolinewidth": 2
          },
          "yaxis": {
           "automargin": true,
           "gridcolor": "white",
           "linecolor": "white",
           "ticks": "",
           "title": {
            "standoff": 15
           },
           "zerolinecolor": "white",
           "zerolinewidth": 2
          }
         }
        },
        "xaxis": {
         "anchor": "y",
         "domain": [
          0,
          1
         ],
         "title": {
          "text": "created_month"
         }
        },
        "yaxis": {
         "anchor": "x",
         "domain": [
          0,
          1
         ],
         "title": {
          "text": "created_count"
         }
        }
       }
      }
     },
     "metadata": {},
     "output_type": "display_data"
    }
   ],
   "source": [
    "member_create_analysis_df.pandas_api().plot.line(x='created_month', y='created_count')"
   ]
  },
  {
   "cell_type": "code",
   "execution_count": null,
   "metadata": {},
   "outputs": [],
   "source": [
    "member_create_analysis_df.write.format('parquet').option('path', 's3:xxxxx').saveAsTable('database.tablename')"
   ]
  }
 ],
 "metadata": {
  "kernelspec": {
   "display_name": "Python 3",
   "language": "python",
   "name": "python3"
  },
  "language_info": {
   "codemirror_mode": {
    "name": "ipython",
    "version": 3
   },
   "file_extension": ".py",
   "mimetype": "text/x-python",
   "name": "python",
   "nbconvert_exporter": "python",
   "pygments_lexer": "ipython3",
   "version": "3.9.7"
  }
 },
 "nbformat": 4,
 "nbformat_minor": 2
}
