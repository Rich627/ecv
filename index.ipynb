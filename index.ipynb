{
 "cells": [
  {
   "cell_type": "code",
   "execution_count": 1,
   "metadata": {},
   "outputs": [],
   "source": [
    "from pyspark import SparkContext, SparkConf\n",
    "from pyspark.sql import SparkSession, functions\n",
    "import pandas as pd"
   ]
  },
  {
   "cell_type": "markdown",
   "metadata": {},
   "source": [
    "### Downlaod Excel Plugine\n",
    "https://repo1.maven.org/maven2/com/crealytics/spark-excel_2.13/3.5.0_0.20.3/spark-excel_2.13-3.5.0_0.20.3.jar"
   ]
  },
  {
   "cell_type": "code",
   "execution_count": 2,
   "metadata": {},
   "outputs": [],
   "source": [
    "# # load data\n",
    "# raw_data_to_interns_orders = pd.read_excel(\"/Users/rich/Desktop/ecv proejct/Data/Raw Data_To interns_Orders.xlsx\")\n",
    "# raw_data_to_interns_contacts= pd.read_excel(\"/Users/rich/Desktop/ecv proejct/Data/Raw Data_To interns_Contacts.xlsx\")\n",
    "# raw_data_to_interns_products_orgin = pd.read_excel(\"/Users/rich/Desktop/ecv proejct/Data/Raw Data_To interns_Products_origin.xlsx\")\n",
    "\n",
    "# # covert to scv\n",
    "# raw_data_to_interns_orders.to_csv(\"Data/Raw Data_To interns_Orders.csv\", index=False, sep=\",\")\n",
    "# raw_data_to_interns_products_orgin.to_csv(\"Data/Raw Data_To interns_Products_origin.csv\", index=False, sep=\",\")\n",
    "# raw_data_to_interns_contacts.to_csv(\"Data/Raw Data_To interns_Contacts.csv\", index=False, sep=\",\")\n"
   ]
  },
  {
   "cell_type": "code",
   "execution_count": 3,
   "metadata": {},
   "outputs": [],
   "source": [
    "# conf = SparkConf().set(\"spark.jars\", \"/Users/dragonh/Workspace/intern/2024Q2/jars/spark-excel_2.12-3.5.0_0.20.3.jar\")"
   ]
  },
  {
   "cell_type": "code",
   "execution_count": 4,
   "metadata": {},
   "outputs": [],
   "source": [
    "conf = SparkConf().set(\"spark.jars\", \"/Users/rich/miniconda3/lib/python3.10/site-packages/pyspark/spark_jars/spark-excel_2.13-3.5.0_0.20.3.jar\")"
   ]
  },
  {
   "cell_type": "code",
   "execution_count": 5,
   "metadata": {},
   "outputs": [
    {
     "name": "stderr",
     "output_type": "stream",
     "text": [
      "24/03/20 13:49:54 WARN NativeCodeLoader: Unable to load native-hadoop library for your platform... using builtin-java classes where applicable\n",
      "Setting default log level to \"WARN\".\n",
      "To adjust logging level use sc.setLogLevel(newLevel). For SparkR, use setLogLevel(newLevel).\n"
     ]
    }
   ],
   "source": [
    "sc = SparkContext.getOrCreate(conf=conf)\n",
    "spark = SparkSession(sc)"
   ]
  },
  {
   "cell_type": "code",
   "execution_count": 6,
   "metadata": {},
   "outputs": [
    {
     "name": "stderr",
     "output_type": "stream",
     "text": [
      "                                                                                \r"
     ]
    }
   ],
   "source": [
    "df = spark.read \\\n",
    "    .format('csv') \\\n",
    "    .option(\"maxRowsInMemory\", 20) \\\n",
    "    .option(\"inferSchema\", \"true\") \\\n",
    "    .option(\"header\", \"true\") \\\n",
    "    .load(\"/Users/rich/Desktop/ecv proejct/Data/Raw Data_To interns_Orders.csv\")"
   ]
  },
  {
   "cell_type": "code",
   "execution_count": 7,
   "metadata": {},
   "outputs": [
    {
     "name": "stdout",
     "output_type": "stream",
     "text": [
      "root\n",
      " |-- Id: string (nullable = true)\n",
      " |-- Name: string (nullable = true)\n",
      " |-- CreatedDate: timestamp (nullable = true)\n",
      " |-- date_id__c: date (nullable = true)\n",
      " |-- sale_num__c: string (nullable = true)\n",
      " |-- sale_seq__c: integer (nullable = true)\n",
      " |-- item_id__c: long (nullable = true)\n",
      " |-- item_code__c: string (nullable = true)\n",
      " |-- item_system__c: string (nullable = true)\n",
      " |-- qty__c: integer (nullable = true)\n",
      " |-- Amount: integer (nullable = true)\n",
      " |-- Brand: string (nullable = true)\n",
      " |-- ExternalId__c: string (nullable = true)\n",
      " |-- md_account__c: string (nullable = true)\n",
      " |-- sale_status__c: string (nullable = true)\n",
      " |-- channel_sale_num__c: string (nullable = true)\n",
      " |-- no__c: integer (nullable = true)\n",
      "\n"
     ]
    }
   ],
   "source": [
    "df.printSchema()"
   ]
  },
  {
   "cell_type": "code",
   "execution_count": 8,
   "metadata": {},
   "outputs": [
    {
     "data": {
      "text/plain": [
       "225314"
      ]
     },
     "execution_count": 8,
     "metadata": {},
     "output_type": "execute_result"
    }
   ],
   "source": [
    "df.count()"
   ]
  },
  {
   "cell_type": "code",
   "execution_count": 9,
   "metadata": {},
   "outputs": [
    {
     "name": "stdout",
     "output_type": "stream",
     "text": [
      "+----+--------------------+-------------------+----------+----------------+-----------+------------+--------------------+--------------+------+------+-----+--------------------+-------------+--------------+-------------------+------+\n",
      "|  Id|                Name|        CreatedDate|date_id__c|     sale_num__c|sale_seq__c|  item_id__c|        item_code__c|item_system__c|qty__c|Amount|Brand|       ExternalId__c|md_account__c|sale_status__c|channel_sale_num__c| no__c|\n",
      "+----+--------------------+-------------------+----------+----------------+-----------+------------+--------------------+--------------+------+------+-----+--------------------+-------------+--------------+-------------------+------+\n",
      "|NULL|16071300005-23310001|2020-03-20 19:15:16|2016-07-14|16071300005-2331|          1|103031250001|       KKT150A(1612)|      皮脂調理|     1|   707| ECVC|ECVC1000020160714...|         NULL|             f|        C6070250319| 10000|\n",
      "|NULL|16071300005-23310002|2020-03-20 19:15:16|2016-07-14|16071300005-2331|          2|103021250001|       KKK150A(1611)|      皮脂調理|     1|   725| ECVC|ECVC1000020160714...|         NULL|             f|        C6070250319| 10000|\n",
      "|NULL|19121800015-23310001|2020-03-20 19:15:16|2019-12-18|19121800015-2331|          1|    20319006|    PA190901=AAS002Y|    極凍齡修復|     1|     0| ECVC|ECVC1000122019121...|         NULL|             f|        C9121139402|100012|\n",
      "|NULL|19121800015-23310002|2020-03-20 19:15:16|2019-12-18|19121800015-2331|          2|108031250001|             MMT150A| 超MAN速效保養|     1|   406| ECVC|ECVC1000122019121...|         NULL|             f|        C9121139402|100012|\n",
      "|NULL|19121800015-23310003|2020-03-20 19:15:16|2019-12-18|19121800015-2331|          3|108051190001|             MML050A| 超MAN速效保養|     1|   456| ECVC|ECVC1000122019121...|         NULL|             f|        C9121139402|100012|\n",
      "|NULL|19121800015-23310004|2020-03-20 19:15:16|2019-12-18|19121800015-2331|          4|108061190001|             MMG050A| 超MAN速效保養|     1|   556| ECVC|ECVC1000122019121...|         NULL|             f|        C9121139402|100012|\n",
      "|NULL|19121200026-23300001|2020-03-20 19:15:16|2019-12-12|19121200026-2330|          1|    20319006|    PA190901=AAS002Y|    極凍齡修復|     1|     0| ECVC|ECVC1000152019121...|         NULL|             f|        C9121139416|100015|\n",
      "|NULL|19121200026-23300002|2020-03-20 19:15:16|2019-12-12|19121200026-2330|          2|102031170002|       AAT030A(2003)|    極凍齡修復|     1|     0| ECVC|ECVC1000152019121...|         NULL|             f|        C9121139416|100015|\n",
      "|NULL|19121200026-23300003|2020-03-20 19:15:16|2019-12-12|19121200026-2330|          3|102041050004|             AAS005A|    極凍齡修復|     1|     0| ECVC|ECVC1000152019121...|         NULL|             f|        C9121139416|100015|\n",
      "|NULL|19121200026-23300004|2020-03-20 19:15:16|2019-12-12|19121200026-2330|          4|104041170001|             RRS030A|    黃瓜酸煥膚|     2|  1756| ECVC|ECVC1000152019121...|         NULL|             f|        C9121139416|100015|\n",
      "|NULL|19122000011-23310001|2020-03-20 19:15:16|2019-12-20|19122000011-2331|          1|    20319006|    PA190901=AAS002Y|    極凍齡修復|     1|     0| ECVC|ECVC1000282019122...|         NULL|             f|        C9121139533|100028|\n",
      "|NULL|19122000011-23310002|2020-03-20 19:15:16|2019-12-20|19122000011-2331|          2|999999990003|                NULL|          其他|     1|   121| ECVC|ECVC1000282019122...|         NULL|             f|        C9121139533|100028|\n",
      "|NULL|19122000011-23310003|2020-03-20 19:15:16|2019-12-20|19122000011-2331|          3|102091070001|             AAA007A|    極凍齡修復|     1|   755| ECVC|ECVC1000282019122...|         NULL|             f|        C9121139533|100028|\n",
      "|NULL|19121800016-23310001|2020-03-20 19:15:16|2019-12-18|19121800016-2331|          1|    20319006|    PA190901=AAS002Y|    極凍齡修復|     1|     0| ECVC|ECVC1000302019121...|         NULL|             f|        C9121139546|100030|\n",
      "|NULL|19121800016-23310002|2020-03-20 19:15:16|2019-12-18|19121800016-2331|          2|    20219001|PT190204=HHT030X+...|    檸檬酸保濕|     1|   245| ECVC|ECVC1000302019121...|         NULL|             f|        C9121139546|100030|\n",
      "|NULL|19121800016-23310003|2020-03-20 19:15:16|2019-12-18|19121800016-2331|          3|    20219006|PT190101=WWT30X+W...|潤透光淡出系列|     1|   292| ECVC|ECVC1000302019121...|         NULL|             f|        C9121139546|100030|\n",
      "|NULL|19121800016-23310004|2020-03-20 19:15:16|2019-12-18|19121800016-2331|          4|102041050004|             AAS005A|    極凍齡修復|     1|     0| ECVC|ECVC1000302019121...|         NULL|             f|        C9121139546|100030|\n",
      "|NULL|19121800016-23310005|2020-03-20 19:15:16|2019-12-18|19121800016-2331|          5|102031170002|       AAT030A(2003)|    極凍齡修復|     1|     0| ECVC|ECVC1000302019121...|         NULL|             f|        C9121139546|100030|\n",
      "|NULL|19121800016-23310006|2020-03-20 19:15:16|2019-12-18|19121800016-2331|          6|    20219009|PT190107=WWT030X+...|潤透光淡出系列|     1|   340| ECVC|ECVC1000302019121...|         NULL|             f|        C9121139546|100030|\n",
      "|NULL|19121800016-23310007|2020-03-20 19:15:16|2019-12-18|19121800016-2331|          7|107111170019|       UBL030A(2003)|    全方位防護|     2|  1144| ECVC|ECVC1000302019121...|         NULL|             f|        C9121139546|100030|\n",
      "+----+--------------------+-------------------+----------+----------------+-----------+------------+--------------------+--------------+------+------+-----+--------------------+-------------+--------------+-------------------+------+\n",
      "only showing top 20 rows\n",
      "\n"
     ]
    }
   ],
   "source": [
    "df.show()"
   ]
  },
  {
   "cell_type": "code",
   "execution_count": 10,
   "metadata": {},
   "outputs": [],
   "source": [
    "# rename columns\n",
    "df = df.withColumnRenamed(\"item_system__c\", \"Product\")"
   ]
  },
  {
   "cell_type": "code",
   "execution_count": 11,
   "metadata": {},
   "outputs": [
    {
     "data": {
      "text/plain": [
       "DataFrame[Id: string, Name: string, CreatedDate: timestamp, date_id__c: date, sale_num__c: string, sale_seq__c: int, item_id__c: bigint, item_code__c: string, Product: string, qty__c: int, Amount: int, Brand: string, ExternalId__c: string, md_account__c: string, sale_status__c: string, channel_sale_num__c: string, no__c: int]"
      ]
     },
     "execution_count": 11,
     "metadata": {},
     "output_type": "execute_result"
    }
   ],
   "source": [
    "df"
   ]
  },
  {
   "cell_type": "code",
   "execution_count": 12,
   "metadata": {},
   "outputs": [],
   "source": [
    "# Define Scema code\n",
    "\n",
    "# from pyspark.sql.types import StructType, StringType, IntegerType, StructField\n",
    "# data = [(\"James\",\"\",\"Smith\",\"36\",\"M\",3000),\n",
    "#     (\"Michael\",\"Rose\",\"\",\"40\",\"M\",4000),\n",
    "#     (\"Robert\",\"\",\"Williams\",\"42\",\"M\",4000),\n",
    "#     (\"Maria\",\"Anne\",\"Jones\",\"39\",\"F\",4000),\n",
    "#     (\"Jen\",\"Mary\",\"Brown\",\"\",\"F\",-1)\n",
    "#   ]\n",
    "\n",
    "# schema = StructType([ \n",
    "#     StructField(\"firstname\",StringType(),True), \n",
    "#     StructField(\"middlename\",StringType(),True), \n",
    "#     StructField(\"lastname\",StringType(),True), \n",
    "#     StructField(\"age\", StringType(), True), \n",
    "#     StructField(\"gender\", StringType(), True), \n",
    "#     StructField(\"salary\", IntegerType(), True) \n",
    "#   ])\n",
    " \n",
    "# df = spark.createDataFrame(data=data,schema=schema)\n",
    "# df.printSchema()\n",
    "# df.show(truncate=False)"
   ]
  },
  {
   "cell_type": "code",
   "execution_count": 13,
   "metadata": {},
   "outputs": [
    {
     "name": "stdout",
     "output_type": "stream",
     "text": [
      "root\n",
      " |-- Id: string (nullable = true)\n",
      " |-- Name: string (nullable = true)\n",
      " |-- CreatedDate: date (nullable = true)\n",
      " |-- date_id__c: date (nullable = true)\n",
      " |-- sale_num__c: string (nullable = true)\n",
      " |-- sale_seq__c: integer (nullable = true)\n",
      " |-- item_id__c: long (nullable = true)\n",
      " |-- item_code__c: string (nullable = true)\n",
      " |-- Product: string (nullable = true)\n",
      " |-- qty__c: integer (nullable = true)\n",
      " |-- Amount: integer (nullable = true)\n",
      " |-- Brand: string (nullable = true)\n",
      " |-- ExternalId__c: string (nullable = true)\n",
      " |-- md_account__c: string (nullable = true)\n",
      " |-- sale_status__c: string (nullable = true)\n",
      " |-- channel_sale_num__c: string (nullable = true)\n",
      " |-- no__c: integer (nullable = true)\n",
      "\n"
     ]
    }
   ],
   "source": [
    "# Change schema\n",
    "from pyspark.sql.types import DateType\n",
    "\n",
    "df = df.withColumn(\"CreatedDate\", df[\"CreatedDate\"].cast(DateType()))\n",
    "\n",
    "df.printSchema()"
   ]
  },
  {
   "cell_type": "code",
   "execution_count": 14,
   "metadata": {},
   "outputs": [
    {
     "data": {
      "text/plain": [
       "<bound method DataFrame.show of DataFrame[Id: string, Name: string, CreatedDate: date, date_id__c: date, sale_num__c: string, sale_seq__c: int, item_id__c: bigint, item_code__c: string, Product: string, qty__c: int, Amount: int, Brand: string, ExternalId__c: string, md_account__c: string, sale_status__c: string, channel_sale_num__c: string, no__c: int]>"
      ]
     },
     "execution_count": 14,
     "metadata": {},
     "output_type": "execute_result"
    }
   ],
   "source": [
    "df.show"
   ]
  },
  {
   "cell_type": "code",
   "execution_count": 15,
   "metadata": {},
   "outputs": [],
   "source": [
    "# # df.select('MailingCity').pandas_api().plot.pie(y='MailingCity')\n",
    "# df.groupBy('MailingCity').count().select('MailingCity', functions.col('count')).pandas_api().plot.pie(y='count')"
   ]
  },
  {
   "cell_type": "code",
   "execution_count": 16,
   "metadata": {},
   "outputs": [
    {
     "name": "stderr",
     "output_type": "stream",
     "text": [
      "/Users/rich/miniconda3/envs/ecv/lib/python3.10/site-packages/pyspark/pandas/__init__.py:50: UserWarning: 'PYARROW_IGNORE_TIMEZONE' environment variable was not set. It is required to set this environment variable to '1' in both driver and executor sides if you use pyarrow>=2.0.0. pandas-on-Spark will set it for you but it does not work if there is a Spark context already launched.\n",
      "  warnings.warn(\n"
     ]
    },
    {
     "data": {
      "application/vnd.plotly.v1+json": {
       "config": {
        "plotlyServerURL": "https://plot.ly"
       },
       "data": [
        {
         "domain": {
          "x": [
           0,
           1
          ],
          "y": [
           0,
           1
          ]
         },
         "hovertemplate": "index=%{label}<br>count=%{value}<extra></extra>",
         "labels": [
          0,
          1,
          2,
          3,
          4,
          5,
          6,
          7,
          8,
          9,
          10,
          11,
          12,
          13,
          14,
          15,
          16,
          17,
          18,
          19,
          20,
          21,
          22
         ],
         "legendgroup": "",
         "name": "",
         "showlegend": true,
         "type": "pie",
         "values": [
          16874,
          2535,
          1531,
          13,
          2100,
          6997,
          422,
          5711,
          301,
          35920,
          3198,
          4776,
          14579,
          24,
          508,
          64881,
          18915,
          23228,
          27,
          2474,
          3009,
          15988,
          1303
         ]
        }
       ],
       "layout": {
        "legend": {
         "tracegroupgap": 0
        },
        "margin": {
         "t": 60
        },
        "template": {
         "data": {
          "bar": [
           {
            "error_x": {
             "color": "#2a3f5f"
            },
            "error_y": {
             "color": "#2a3f5f"
            },
            "marker": {
             "line": {
              "color": "#E5ECF6",
              "width": 0.5
             },
             "pattern": {
              "fillmode": "overlay",
              "size": 10,
              "solidity": 0.2
             }
            },
            "type": "bar"
           }
          ],
          "barpolar": [
           {
            "marker": {
             "line": {
              "color": "#E5ECF6",
              "width": 0.5
             },
             "pattern": {
              "fillmode": "overlay",
              "size": 10,
              "solidity": 0.2
             }
            },
            "type": "barpolar"
           }
          ],
          "carpet": [
           {
            "aaxis": {
             "endlinecolor": "#2a3f5f",
             "gridcolor": "white",
             "linecolor": "white",
             "minorgridcolor": "white",
             "startlinecolor": "#2a3f5f"
            },
            "baxis": {
             "endlinecolor": "#2a3f5f",
             "gridcolor": "white",
             "linecolor": "white",
             "minorgridcolor": "white",
             "startlinecolor": "#2a3f5f"
            },
            "type": "carpet"
           }
          ],
          "choropleth": [
           {
            "colorbar": {
             "outlinewidth": 0,
             "ticks": ""
            },
            "type": "choropleth"
           }
          ],
          "contour": [
           {
            "colorbar": {
             "outlinewidth": 0,
             "ticks": ""
            },
            "colorscale": [
             [
              0,
              "#0d0887"
             ],
             [
              0.1111111111111111,
              "#46039f"
             ],
             [
              0.2222222222222222,
              "#7201a8"
             ],
             [
              0.3333333333333333,
              "#9c179e"
             ],
             [
              0.4444444444444444,
              "#bd3786"
             ],
             [
              0.5555555555555556,
              "#d8576b"
             ],
             [
              0.6666666666666666,
              "#ed7953"
             ],
             [
              0.7777777777777778,
              "#fb9f3a"
             ],
             [
              0.8888888888888888,
              "#fdca26"
             ],
             [
              1,
              "#f0f921"
             ]
            ],
            "type": "contour"
           }
          ],
          "contourcarpet": [
           {
            "colorbar": {
             "outlinewidth": 0,
             "ticks": ""
            },
            "type": "contourcarpet"
           }
          ],
          "heatmap": [
           {
            "colorbar": {
             "outlinewidth": 0,
             "ticks": ""
            },
            "colorscale": [
             [
              0,
              "#0d0887"
             ],
             [
              0.1111111111111111,
              "#46039f"
             ],
             [
              0.2222222222222222,
              "#7201a8"
             ],
             [
              0.3333333333333333,
              "#9c179e"
             ],
             [
              0.4444444444444444,
              "#bd3786"
             ],
             [
              0.5555555555555556,
              "#d8576b"
             ],
             [
              0.6666666666666666,
              "#ed7953"
             ],
             [
              0.7777777777777778,
              "#fb9f3a"
             ],
             [
              0.8888888888888888,
              "#fdca26"
             ],
             [
              1,
              "#f0f921"
             ]
            ],
            "type": "heatmap"
           }
          ],
          "heatmapgl": [
           {
            "colorbar": {
             "outlinewidth": 0,
             "ticks": ""
            },
            "colorscale": [
             [
              0,
              "#0d0887"
             ],
             [
              0.1111111111111111,
              "#46039f"
             ],
             [
              0.2222222222222222,
              "#7201a8"
             ],
             [
              0.3333333333333333,
              "#9c179e"
             ],
             [
              0.4444444444444444,
              "#bd3786"
             ],
             [
              0.5555555555555556,
              "#d8576b"
             ],
             [
              0.6666666666666666,
              "#ed7953"
             ],
             [
              0.7777777777777778,
              "#fb9f3a"
             ],
             [
              0.8888888888888888,
              "#fdca26"
             ],
             [
              1,
              "#f0f921"
             ]
            ],
            "type": "heatmapgl"
           }
          ],
          "histogram": [
           {
            "marker": {
             "pattern": {
              "fillmode": "overlay",
              "size": 10,
              "solidity": 0.2
             }
            },
            "type": "histogram"
           }
          ],
          "histogram2d": [
           {
            "colorbar": {
             "outlinewidth": 0,
             "ticks": ""
            },
            "colorscale": [
             [
              0,
              "#0d0887"
             ],
             [
              0.1111111111111111,
              "#46039f"
             ],
             [
              0.2222222222222222,
              "#7201a8"
             ],
             [
              0.3333333333333333,
              "#9c179e"
             ],
             [
              0.4444444444444444,
              "#bd3786"
             ],
             [
              0.5555555555555556,
              "#d8576b"
             ],
             [
              0.6666666666666666,
              "#ed7953"
             ],
             [
              0.7777777777777778,
              "#fb9f3a"
             ],
             [
              0.8888888888888888,
              "#fdca26"
             ],
             [
              1,
              "#f0f921"
             ]
            ],
            "type": "histogram2d"
           }
          ],
          "histogram2dcontour": [
           {
            "colorbar": {
             "outlinewidth": 0,
             "ticks": ""
            },
            "colorscale": [
             [
              0,
              "#0d0887"
             ],
             [
              0.1111111111111111,
              "#46039f"
             ],
             [
              0.2222222222222222,
              "#7201a8"
             ],
             [
              0.3333333333333333,
              "#9c179e"
             ],
             [
              0.4444444444444444,
              "#bd3786"
             ],
             [
              0.5555555555555556,
              "#d8576b"
             ],
             [
              0.6666666666666666,
              "#ed7953"
             ],
             [
              0.7777777777777778,
              "#fb9f3a"
             ],
             [
              0.8888888888888888,
              "#fdca26"
             ],
             [
              1,
              "#f0f921"
             ]
            ],
            "type": "histogram2dcontour"
           }
          ],
          "mesh3d": [
           {
            "colorbar": {
             "outlinewidth": 0,
             "ticks": ""
            },
            "type": "mesh3d"
           }
          ],
          "parcoords": [
           {
            "line": {
             "colorbar": {
              "outlinewidth": 0,
              "ticks": ""
             }
            },
            "type": "parcoords"
           }
          ],
          "pie": [
           {
            "automargin": true,
            "type": "pie"
           }
          ],
          "scatter": [
           {
            "fillpattern": {
             "fillmode": "overlay",
             "size": 10,
             "solidity": 0.2
            },
            "type": "scatter"
           }
          ],
          "scatter3d": [
           {
            "line": {
             "colorbar": {
              "outlinewidth": 0,
              "ticks": ""
             }
            },
            "marker": {
             "colorbar": {
              "outlinewidth": 0,
              "ticks": ""
             }
            },
            "type": "scatter3d"
           }
          ],
          "scattercarpet": [
           {
            "marker": {
             "colorbar": {
              "outlinewidth": 0,
              "ticks": ""
             }
            },
            "type": "scattercarpet"
           }
          ],
          "scattergeo": [
           {
            "marker": {
             "colorbar": {
              "outlinewidth": 0,
              "ticks": ""
             }
            },
            "type": "scattergeo"
           }
          ],
          "scattergl": [
           {
            "marker": {
             "colorbar": {
              "outlinewidth": 0,
              "ticks": ""
             }
            },
            "type": "scattergl"
           }
          ],
          "scattermapbox": [
           {
            "marker": {
             "colorbar": {
              "outlinewidth": 0,
              "ticks": ""
             }
            },
            "type": "scattermapbox"
           }
          ],
          "scatterpolar": [
           {
            "marker": {
             "colorbar": {
              "outlinewidth": 0,
              "ticks": ""
             }
            },
            "type": "scatterpolar"
           }
          ],
          "scatterpolargl": [
           {
            "marker": {
             "colorbar": {
              "outlinewidth": 0,
              "ticks": ""
             }
            },
            "type": "scatterpolargl"
           }
          ],
          "scatterternary": [
           {
            "marker": {
             "colorbar": {
              "outlinewidth": 0,
              "ticks": ""
             }
            },
            "type": "scatterternary"
           }
          ],
          "surface": [
           {
            "colorbar": {
             "outlinewidth": 0,
             "ticks": ""
            },
            "colorscale": [
             [
              0,
              "#0d0887"
             ],
             [
              0.1111111111111111,
              "#46039f"
             ],
             [
              0.2222222222222222,
              "#7201a8"
             ],
             [
              0.3333333333333333,
              "#9c179e"
             ],
             [
              0.4444444444444444,
              "#bd3786"
             ],
             [
              0.5555555555555556,
              "#d8576b"
             ],
             [
              0.6666666666666666,
              "#ed7953"
             ],
             [
              0.7777777777777778,
              "#fb9f3a"
             ],
             [
              0.8888888888888888,
              "#fdca26"
             ],
             [
              1,
              "#f0f921"
             ]
            ],
            "type": "surface"
           }
          ],
          "table": [
           {
            "cells": {
             "fill": {
              "color": "#EBF0F8"
             },
             "line": {
              "color": "white"
             }
            },
            "header": {
             "fill": {
              "color": "#C8D4E3"
             },
             "line": {
              "color": "white"
             }
            },
            "type": "table"
           }
          ]
         },
         "layout": {
          "annotationdefaults": {
           "arrowcolor": "#2a3f5f",
           "arrowhead": 0,
           "arrowwidth": 1
          },
          "autotypenumbers": "strict",
          "coloraxis": {
           "colorbar": {
            "outlinewidth": 0,
            "ticks": ""
           }
          },
          "colorscale": {
           "diverging": [
            [
             0,
             "#8e0152"
            ],
            [
             0.1,
             "#c51b7d"
            ],
            [
             0.2,
             "#de77ae"
            ],
            [
             0.3,
             "#f1b6da"
            ],
            [
             0.4,
             "#fde0ef"
            ],
            [
             0.5,
             "#f7f7f7"
            ],
            [
             0.6,
             "#e6f5d0"
            ],
            [
             0.7,
             "#b8e186"
            ],
            [
             0.8,
             "#7fbc41"
            ],
            [
             0.9,
             "#4d9221"
            ],
            [
             1,
             "#276419"
            ]
           ],
           "sequential": [
            [
             0,
             "#0d0887"
            ],
            [
             0.1111111111111111,
             "#46039f"
            ],
            [
             0.2222222222222222,
             "#7201a8"
            ],
            [
             0.3333333333333333,
             "#9c179e"
            ],
            [
             0.4444444444444444,
             "#bd3786"
            ],
            [
             0.5555555555555556,
             "#d8576b"
            ],
            [
             0.6666666666666666,
             "#ed7953"
            ],
            [
             0.7777777777777778,
             "#fb9f3a"
            ],
            [
             0.8888888888888888,
             "#fdca26"
            ],
            [
             1,
             "#f0f921"
            ]
           ],
           "sequentialminus": [
            [
             0,
             "#0d0887"
            ],
            [
             0.1111111111111111,
             "#46039f"
            ],
            [
             0.2222222222222222,
             "#7201a8"
            ],
            [
             0.3333333333333333,
             "#9c179e"
            ],
            [
             0.4444444444444444,
             "#bd3786"
            ],
            [
             0.5555555555555556,
             "#d8576b"
            ],
            [
             0.6666666666666666,
             "#ed7953"
            ],
            [
             0.7777777777777778,
             "#fb9f3a"
            ],
            [
             0.8888888888888888,
             "#fdca26"
            ],
            [
             1,
             "#f0f921"
            ]
           ]
          },
          "colorway": [
           "#636efa",
           "#EF553B",
           "#00cc96",
           "#ab63fa",
           "#FFA15A",
           "#19d3f3",
           "#FF6692",
           "#B6E880",
           "#FF97FF",
           "#FECB52"
          ],
          "font": {
           "color": "#2a3f5f"
          },
          "geo": {
           "bgcolor": "white",
           "lakecolor": "white",
           "landcolor": "#E5ECF6",
           "showlakes": true,
           "showland": true,
           "subunitcolor": "white"
          },
          "hoverlabel": {
           "align": "left"
          },
          "hovermode": "closest",
          "mapbox": {
           "style": "light"
          },
          "paper_bgcolor": "white",
          "plot_bgcolor": "#E5ECF6",
          "polar": {
           "angularaxis": {
            "gridcolor": "white",
            "linecolor": "white",
            "ticks": ""
           },
           "bgcolor": "#E5ECF6",
           "radialaxis": {
            "gridcolor": "white",
            "linecolor": "white",
            "ticks": ""
           }
          },
          "scene": {
           "xaxis": {
            "backgroundcolor": "#E5ECF6",
            "gridcolor": "white",
            "gridwidth": 2,
            "linecolor": "white",
            "showbackground": true,
            "ticks": "",
            "zerolinecolor": "white"
           },
           "yaxis": {
            "backgroundcolor": "#E5ECF6",
            "gridcolor": "white",
            "gridwidth": 2,
            "linecolor": "white",
            "showbackground": true,
            "ticks": "",
            "zerolinecolor": "white"
           },
           "zaxis": {
            "backgroundcolor": "#E5ECF6",
            "gridcolor": "white",
            "gridwidth": 2,
            "linecolor": "white",
            "showbackground": true,
            "ticks": "",
            "zerolinecolor": "white"
           }
          },
          "shapedefaults": {
           "line": {
            "color": "#2a3f5f"
           }
          },
          "ternary": {
           "aaxis": {
            "gridcolor": "white",
            "linecolor": "white",
            "ticks": ""
           },
           "baxis": {
            "gridcolor": "white",
            "linecolor": "white",
            "ticks": ""
           },
           "bgcolor": "#E5ECF6",
           "caxis": {
            "gridcolor": "white",
            "linecolor": "white",
            "ticks": ""
           }
          },
          "title": {
           "x": 0.05
          },
          "xaxis": {
           "automargin": true,
           "gridcolor": "white",
           "linecolor": "white",
           "ticks": "",
           "title": {
            "standoff": 15
           },
           "zerolinecolor": "white",
           "zerolinewidth": 2
          },
          "yaxis": {
           "automargin": true,
           "gridcolor": "white",
           "linecolor": "white",
           "ticks": "",
           "title": {
            "standoff": 15
           },
           "zerolinecolor": "white",
           "zerolinewidth": 2
          }
         }
        }
       }
      }
     },
     "metadata": {},
     "output_type": "display_data"
    }
   ],
   "source": [
    "df.groupBy('Product').count().select('Product', functions.col('count')).pandas_api().plot.pie(y=\"count\")"
   ]
  },
  {
   "cell_type": "code",
   "execution_count": 17,
   "metadata": {},
   "outputs": [],
   "source": [
    "df.createOrReplaceTempView('test')"
   ]
  },
  {
   "cell_type": "code",
   "execution_count": 18,
   "metadata": {},
   "outputs": [
    {
     "name": "stdout",
     "output_type": "stream",
     "text": [
      "+----+--------------------+-----------+----------+----------------+-----------+------------+--------------------+--------------+------+------+-----+--------------------+-------------+--------------+-------------------+------+\n",
      "|  Id|                Name|CreatedDate|date_id__c|     sale_num__c|sale_seq__c|  item_id__c|        item_code__c|       Product|qty__c|Amount|Brand|       ExternalId__c|md_account__c|sale_status__c|channel_sale_num__c| no__c|\n",
      "+----+--------------------+-----------+----------+----------------+-----------+------------+--------------------+--------------+------+------+-----+--------------------+-------------+--------------+-------------------+------+\n",
      "|NULL|16071300005-23310001| 2020-03-20|2016-07-14|16071300005-2331|          1|103031250001|       KKT150A(1612)|      皮脂調理|     1|   707| ECVC|ECVC1000020160714...|         NULL|             f|        C6070250319| 10000|\n",
      "|NULL|16071300005-23310002| 2020-03-20|2016-07-14|16071300005-2331|          2|103021250001|       KKK150A(1611)|      皮脂調理|     1|   725| ECVC|ECVC1000020160714...|         NULL|             f|        C6070250319| 10000|\n",
      "|NULL|19121800015-23310001| 2020-03-20|2019-12-18|19121800015-2331|          1|    20319006|    PA190901=AAS002Y|    極凍齡修復|     1|     0| ECVC|ECVC1000122019121...|         NULL|             f|        C9121139402|100012|\n",
      "|NULL|19121800015-23310002| 2020-03-20|2019-12-18|19121800015-2331|          2|108031250001|             MMT150A| 超MAN速效保養|     1|   406| ECVC|ECVC1000122019121...|         NULL|             f|        C9121139402|100012|\n",
      "|NULL|19121800015-23310003| 2020-03-20|2019-12-18|19121800015-2331|          3|108051190001|             MML050A| 超MAN速效保養|     1|   456| ECVC|ECVC1000122019121...|         NULL|             f|        C9121139402|100012|\n",
      "|NULL|19121800015-23310004| 2020-03-20|2019-12-18|19121800015-2331|          4|108061190001|             MMG050A| 超MAN速效保養|     1|   556| ECVC|ECVC1000122019121...|         NULL|             f|        C9121139402|100012|\n",
      "|NULL|19121200026-23300001| 2020-03-20|2019-12-12|19121200026-2330|          1|    20319006|    PA190901=AAS002Y|    極凍齡修復|     1|     0| ECVC|ECVC1000152019121...|         NULL|             f|        C9121139416|100015|\n",
      "|NULL|19121200026-23300002| 2020-03-20|2019-12-12|19121200026-2330|          2|102031170002|       AAT030A(2003)|    極凍齡修復|     1|     0| ECVC|ECVC1000152019121...|         NULL|             f|        C9121139416|100015|\n",
      "|NULL|19121200026-23300003| 2020-03-20|2019-12-12|19121200026-2330|          3|102041050004|             AAS005A|    極凍齡修復|     1|     0| ECVC|ECVC1000152019121...|         NULL|             f|        C9121139416|100015|\n",
      "|NULL|19121200026-23300004| 2020-03-20|2019-12-12|19121200026-2330|          4|104041170001|             RRS030A|    黃瓜酸煥膚|     2|  1756| ECVC|ECVC1000152019121...|         NULL|             f|        C9121139416|100015|\n",
      "|NULL|19122000011-23310001| 2020-03-20|2019-12-20|19122000011-2331|          1|    20319006|    PA190901=AAS002Y|    極凍齡修復|     1|     0| ECVC|ECVC1000282019122...|         NULL|             f|        C9121139533|100028|\n",
      "|NULL|19122000011-23310002| 2020-03-20|2019-12-20|19122000011-2331|          2|999999990003|                NULL|          其他|     1|   121| ECVC|ECVC1000282019122...|         NULL|             f|        C9121139533|100028|\n",
      "|NULL|19122000011-23310003| 2020-03-20|2019-12-20|19122000011-2331|          3|102091070001|             AAA007A|    極凍齡修復|     1|   755| ECVC|ECVC1000282019122...|         NULL|             f|        C9121139533|100028|\n",
      "|NULL|19121800016-23310001| 2020-03-20|2019-12-18|19121800016-2331|          1|    20319006|    PA190901=AAS002Y|    極凍齡修復|     1|     0| ECVC|ECVC1000302019121...|         NULL|             f|        C9121139546|100030|\n",
      "|NULL|19121800016-23310002| 2020-03-20|2019-12-18|19121800016-2331|          2|    20219001|PT190204=HHT030X+...|    檸檬酸保濕|     1|   245| ECVC|ECVC1000302019121...|         NULL|             f|        C9121139546|100030|\n",
      "|NULL|19121800016-23310003| 2020-03-20|2019-12-18|19121800016-2331|          3|    20219006|PT190101=WWT30X+W...|潤透光淡出系列|     1|   292| ECVC|ECVC1000302019121...|         NULL|             f|        C9121139546|100030|\n",
      "|NULL|19121800016-23310004| 2020-03-20|2019-12-18|19121800016-2331|          4|102041050004|             AAS005A|    極凍齡修復|     1|     0| ECVC|ECVC1000302019121...|         NULL|             f|        C9121139546|100030|\n",
      "|NULL|19121800016-23310005| 2020-03-20|2019-12-18|19121800016-2331|          5|102031170002|       AAT030A(2003)|    極凍齡修復|     1|     0| ECVC|ECVC1000302019121...|         NULL|             f|        C9121139546|100030|\n",
      "|NULL|19121800016-23310006| 2020-03-20|2019-12-18|19121800016-2331|          6|    20219009|PT190107=WWT030X+...|潤透光淡出系列|     1|   340| ECVC|ECVC1000302019121...|         NULL|             f|        C9121139546|100030|\n",
      "|NULL|19121800016-23310007| 2020-03-20|2019-12-18|19121800016-2331|          7|107111170019|       UBL030A(2003)|    全方位防護|     2|  1144| ECVC|ECVC1000302019121...|         NULL|             f|        C9121139546|100030|\n",
      "+----+--------------------+-----------+----------+----------------+-----------+------------+--------------------+--------------+------+------+-----+--------------------+-------------+--------------+-------------------+------+\n",
      "only showing top 20 rows\n",
      "\n"
     ]
    }
   ],
   "source": [
    "spark.sql(\n",
    "    \"\"\"\n",
    "        SELECT\n",
    "            *\n",
    "        FROM\n",
    "            test\n",
    "    \"\"\"\n",
    ").show()"
   ]
  },
  {
   "cell_type": "code",
   "execution_count": 19,
   "metadata": {},
   "outputs": [
    {
     "ename": "AnalysisException",
     "evalue": "[TABLE_OR_VIEW_NOT_FOUND] The table or view `contact` cannot be found. Verify the spelling and correctness of the schema and catalog.\nIf you did not qualify the name with a schema, verify the current_schema() output, or qualify the name with the correct schema and catalog.\nTo tolerate the error on drop use DROP VIEW IF EXISTS or DROP TABLE IF EXISTS.; line 9 pos 16;\n'Sort ['created_month ASC NULLS FIRST], true\n+- 'Aggregate ['created_month], ['contact_formated.created_month AS created_month#357, count(1) AS created_count#358L]\n   +- 'SubqueryAlias contact_formated\n      +- 'Project ['DATE_TRUNC(MM, 'to_timestamp('CreatedDate, M/d/yy HH:mm)) AS created_month#356]\n         +- 'UnresolvedRelation [contact], [], false\n",
     "output_type": "error",
     "traceback": [
      "\u001b[0;31m---------------------------------------------------------------------------\u001b[0m",
      "\u001b[0;31mAnalysisException\u001b[0m                         Traceback (most recent call last)",
      "Cell \u001b[0;32mIn[19], line 1\u001b[0m\n\u001b[0;32m----> 1\u001b[0m member_create_analysis_df \u001b[38;5;241m=\u001b[39m \u001b[43mspark\u001b[49m\u001b[38;5;241;43m.\u001b[39;49m\u001b[43msql\u001b[49m\u001b[43m(\u001b[49m\n\u001b[1;32m      2\u001b[0m \u001b[38;5;250;43m    \u001b[39;49m\u001b[38;5;124;43;03m\"\"\"\u001b[39;49;00m\n\u001b[1;32m      3\u001b[0m \u001b[38;5;124;43;03m        SELECT\u001b[39;49;00m\n\u001b[1;32m      4\u001b[0m \u001b[38;5;124;43;03m            contact_formated.created_month as created_month,\u001b[39;49;00m\n\u001b[1;32m      5\u001b[0m \u001b[38;5;124;43;03m            COUNT(1) AS created_count\u001b[39;49;00m\n\u001b[1;32m      6\u001b[0m \u001b[38;5;124;43;03m        FROM (\u001b[39;49;00m\n\u001b[1;32m      7\u001b[0m \u001b[38;5;124;43;03m            SELECT\u001b[39;49;00m\n\u001b[1;32m      8\u001b[0m \u001b[38;5;124;43;03m                DATE_TRUNC('MM', to_timestamp(CreatedDate, 'M/d/yy HH:mm')) AS created_month\u001b[39;49;00m\n\u001b[1;32m      9\u001b[0m \u001b[38;5;124;43;03m            FROM\u001b[39;49;00m\n\u001b[1;32m     10\u001b[0m \u001b[38;5;124;43;03m                contact\u001b[39;49;00m\n\u001b[1;32m     11\u001b[0m \u001b[38;5;124;43;03m        ) contact_formated\u001b[39;49;00m\n\u001b[1;32m     12\u001b[0m \u001b[38;5;124;43;03m        GROUP BY\u001b[39;49;00m\n\u001b[1;32m     13\u001b[0m \u001b[38;5;124;43;03m            created_month\u001b[39;49;00m\n\u001b[1;32m     14\u001b[0m \u001b[38;5;124;43;03m        ORDER BY\u001b[39;49;00m\n\u001b[1;32m     15\u001b[0m \u001b[38;5;124;43;03m            created_month\u001b[39;49;00m\n\u001b[1;32m     16\u001b[0m \u001b[38;5;124;43;03m        ASC\u001b[39;49;00m\n\u001b[1;32m     17\u001b[0m \u001b[38;5;124;43;03m    \"\"\"\u001b[39;49;00m\n\u001b[1;32m     18\u001b[0m \u001b[43m)\u001b[49m\n\u001b[1;32m     19\u001b[0m member_create_analysis_df\u001b[38;5;241m.\u001b[39mshow()\n",
      "File \u001b[0;32m~/miniconda3/envs/ecv/lib/python3.10/site-packages/pyspark/sql/session.py:1631\u001b[0m, in \u001b[0;36mSparkSession.sql\u001b[0;34m(self, sqlQuery, args, **kwargs)\u001b[0m\n\u001b[1;32m   1627\u001b[0m         \u001b[38;5;28;01massert\u001b[39;00m \u001b[38;5;28mself\u001b[39m\u001b[38;5;241m.\u001b[39m_jvm \u001b[38;5;129;01mis\u001b[39;00m \u001b[38;5;129;01mnot\u001b[39;00m \u001b[38;5;28;01mNone\u001b[39;00m\n\u001b[1;32m   1628\u001b[0m         litArgs \u001b[38;5;241m=\u001b[39m \u001b[38;5;28mself\u001b[39m\u001b[38;5;241m.\u001b[39m_jvm\u001b[38;5;241m.\u001b[39mPythonUtils\u001b[38;5;241m.\u001b[39mtoArray(\n\u001b[1;32m   1629\u001b[0m             [_to_java_column(lit(v)) \u001b[38;5;28;01mfor\u001b[39;00m v \u001b[38;5;129;01min\u001b[39;00m (args \u001b[38;5;129;01mor\u001b[39;00m [])]\n\u001b[1;32m   1630\u001b[0m         )\n\u001b[0;32m-> 1631\u001b[0m     \u001b[38;5;28;01mreturn\u001b[39;00m DataFrame(\u001b[38;5;28;43mself\u001b[39;49m\u001b[38;5;241;43m.\u001b[39;49m\u001b[43m_jsparkSession\u001b[49m\u001b[38;5;241;43m.\u001b[39;49m\u001b[43msql\u001b[49m\u001b[43m(\u001b[49m\u001b[43msqlQuery\u001b[49m\u001b[43m,\u001b[49m\u001b[43m \u001b[49m\u001b[43mlitArgs\u001b[49m\u001b[43m)\u001b[49m, \u001b[38;5;28mself\u001b[39m)\n\u001b[1;32m   1632\u001b[0m \u001b[38;5;28;01mfinally\u001b[39;00m:\n\u001b[1;32m   1633\u001b[0m     \u001b[38;5;28;01mif\u001b[39;00m \u001b[38;5;28mlen\u001b[39m(kwargs) \u001b[38;5;241m>\u001b[39m \u001b[38;5;241m0\u001b[39m:\n",
      "File \u001b[0;32m~/miniconda3/envs/ecv/lib/python3.10/site-packages/py4j/java_gateway.py:1322\u001b[0m, in \u001b[0;36mJavaMember.__call__\u001b[0;34m(self, *args)\u001b[0m\n\u001b[1;32m   1316\u001b[0m command \u001b[38;5;241m=\u001b[39m proto\u001b[38;5;241m.\u001b[39mCALL_COMMAND_NAME \u001b[38;5;241m+\u001b[39m\\\n\u001b[1;32m   1317\u001b[0m     \u001b[38;5;28mself\u001b[39m\u001b[38;5;241m.\u001b[39mcommand_header \u001b[38;5;241m+\u001b[39m\\\n\u001b[1;32m   1318\u001b[0m     args_command \u001b[38;5;241m+\u001b[39m\\\n\u001b[1;32m   1319\u001b[0m     proto\u001b[38;5;241m.\u001b[39mEND_COMMAND_PART\n\u001b[1;32m   1321\u001b[0m answer \u001b[38;5;241m=\u001b[39m \u001b[38;5;28mself\u001b[39m\u001b[38;5;241m.\u001b[39mgateway_client\u001b[38;5;241m.\u001b[39msend_command(command)\n\u001b[0;32m-> 1322\u001b[0m return_value \u001b[38;5;241m=\u001b[39m \u001b[43mget_return_value\u001b[49m\u001b[43m(\u001b[49m\n\u001b[1;32m   1323\u001b[0m \u001b[43m    \u001b[49m\u001b[43manswer\u001b[49m\u001b[43m,\u001b[49m\u001b[43m \u001b[49m\u001b[38;5;28;43mself\u001b[39;49m\u001b[38;5;241;43m.\u001b[39;49m\u001b[43mgateway_client\u001b[49m\u001b[43m,\u001b[49m\u001b[43m \u001b[49m\u001b[38;5;28;43mself\u001b[39;49m\u001b[38;5;241;43m.\u001b[39;49m\u001b[43mtarget_id\u001b[49m\u001b[43m,\u001b[49m\u001b[43m \u001b[49m\u001b[38;5;28;43mself\u001b[39;49m\u001b[38;5;241;43m.\u001b[39;49m\u001b[43mname\u001b[49m\u001b[43m)\u001b[49m\n\u001b[1;32m   1325\u001b[0m \u001b[38;5;28;01mfor\u001b[39;00m temp_arg \u001b[38;5;129;01min\u001b[39;00m temp_args:\n\u001b[1;32m   1326\u001b[0m     \u001b[38;5;28;01mif\u001b[39;00m \u001b[38;5;28mhasattr\u001b[39m(temp_arg, \u001b[38;5;124m\"\u001b[39m\u001b[38;5;124m_detach\u001b[39m\u001b[38;5;124m\"\u001b[39m):\n",
      "File \u001b[0;32m~/miniconda3/envs/ecv/lib/python3.10/site-packages/pyspark/errors/exceptions/captured.py:185\u001b[0m, in \u001b[0;36mcapture_sql_exception.<locals>.deco\u001b[0;34m(*a, **kw)\u001b[0m\n\u001b[1;32m    181\u001b[0m converted \u001b[38;5;241m=\u001b[39m convert_exception(e\u001b[38;5;241m.\u001b[39mjava_exception)\n\u001b[1;32m    182\u001b[0m \u001b[38;5;28;01mif\u001b[39;00m \u001b[38;5;129;01mnot\u001b[39;00m \u001b[38;5;28misinstance\u001b[39m(converted, UnknownException):\n\u001b[1;32m    183\u001b[0m     \u001b[38;5;66;03m# Hide where the exception came from that shows a non-Pythonic\u001b[39;00m\n\u001b[1;32m    184\u001b[0m     \u001b[38;5;66;03m# JVM exception message.\u001b[39;00m\n\u001b[0;32m--> 185\u001b[0m     \u001b[38;5;28;01mraise\u001b[39;00m converted \u001b[38;5;28;01mfrom\u001b[39;00m \u001b[38;5;28;01mNone\u001b[39;00m\n\u001b[1;32m    186\u001b[0m \u001b[38;5;28;01melse\u001b[39;00m:\n\u001b[1;32m    187\u001b[0m     \u001b[38;5;28;01mraise\u001b[39;00m\n",
      "\u001b[0;31mAnalysisException\u001b[0m: [TABLE_OR_VIEW_NOT_FOUND] The table or view `contact` cannot be found. Verify the spelling and correctness of the schema and catalog.\nIf you did not qualify the name with a schema, verify the current_schema() output, or qualify the name with the correct schema and catalog.\nTo tolerate the error on drop use DROP VIEW IF EXISTS or DROP TABLE IF EXISTS.; line 9 pos 16;\n'Sort ['created_month ASC NULLS FIRST], true\n+- 'Aggregate ['created_month], ['contact_formated.created_month AS created_month#357, count(1) AS created_count#358L]\n   +- 'SubqueryAlias contact_formated\n      +- 'Project ['DATE_TRUNC(MM, 'to_timestamp('CreatedDate, M/d/yy HH:mm)) AS created_month#356]\n         +- 'UnresolvedRelation [contact], [], false\n"
     ]
    },
    {
     "name": "stderr",
     "output_type": "stream",
     "text": [
      "24/03/20 13:50:05 WARN GarbageCollectionMetrics: To enable non-built-in garbage collector(s) List(G1 Concurrent GC), users should configure it(them) to spark.eventLog.gcMetrics.youngGenerationGarbageCollectors or spark.eventLog.gcMetrics.oldGenerationGarbageCollectors\n"
     ]
    }
   ],
   "source": [
    "member_create_analysis_df = spark.sql(\n",
    "    \"\"\"\n",
    "        SELECT\n",
    "            contact_formated.created_month as created_month,\n",
    "            COUNT(1) AS created_count\n",
    "        FROM (\n",
    "            SELECT\n",
    "                DATE_TRUNC('MM', to_timestamp(CreatedDate, 'M/d/yy HH:mm')) AS created_month\n",
    "            FROM\n",
    "                contact\n",
    "        ) contact_formated\n",
    "        GROUP BY\n",
    "            created_month\n",
    "        ORDER BY\n",
    "            created_month\n",
    "        ASC\n",
    "    \"\"\"\n",
    ")\n",
    "member_create_analysis_df.show()"
   ]
  },
  {
   "cell_type": "code",
   "execution_count": null,
   "metadata": {},
   "outputs": [],
   "source": [
    "member_create_analysis_df.pandas_api().plot.line(x='created_month', y='created_count')"
   ]
  },
  {
   "cell_type": "code",
   "execution_count": null,
   "metadata": {},
   "outputs": [],
   "source": [
    "member_create_analysis_df.write.format('parquet').option('path', 's3:xxxxx').saveAsTable('database.tablename')"
   ]
  }
 ],
 "metadata": {
  "kernelspec": {
   "display_name": "Python 3",
   "language": "python",
   "name": "python3"
  },
  "language_info": {
   "codemirror_mode": {
    "name": "ipython",
    "version": 3
   },
   "file_extension": ".py",
   "mimetype": "text/x-python",
   "name": "python",
   "nbconvert_exporter": "python",
   "pygments_lexer": "ipython3",
   "version": "3.10.13"
  }
 },
 "nbformat": 4,
 "nbformat_minor": 2
}
